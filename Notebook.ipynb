{
 "cells": [
  {
   "cell_type": "markdown",
   "id": "f3bb08a6-40c0-4fc3-bff9-420b0d54c854",
   "metadata": {},
   "source": [
    "# Problem Statement\n",
    "The goal is to build a machine learning model that predicts the probability of customer deflection (churn) using anonymized customer data. Predictions are evaluated with logloss, emphasizing well-calibrated probabilities to help businesses take proactive retention measures."
   ]
  },
  {
   "cell_type": "markdown",
   "id": "94be79db-e77b-4d6d-a0d4-3e1716d9fb67",
   "metadata": {
    "jp-MarkdownHeadingCollapsed": true
   },
   "source": [
    "# Import Libraries"
   ]
  },
  {
   "cell_type": "code",
   "execution_count": 1,
   "id": "7a0d3a23-5805-4d70-8285-51ded945f806",
   "metadata": {},
   "outputs": [],
   "source": [
    "# Importing required tools\n",
    "import pandas as pd\n",
    "import numpy as np\n",
    "import matplotlib.pyplot as plt\n",
    "import seaborn as sns\n",
    "%matplotlib inline\n",
    "\n",
    "# Data preprocessing\n",
    "from sklearn.preprocessing import LabelEncoder\n",
    "from imblearn.over_sampling import SMOTE\n",
    "\n",
    "# Models \n",
    "from sklearn.ensemble import RandomForestClassifier\n",
    "from xgboost import XGBClassifier\n",
    "\n",
    "# tuning and evaluation\n",
    "from sklearn.model_selection import train_test_split, RandomizedSearchCV, GridSearchCV\n",
    "from sklearn.metrics import accuracy_score, precision_score, recall_score, f1_score\n",
    "from sklearn.metrics import confusion_matrix, classification_report, log_loss\n",
    "\n",
    "# saving model\n",
    "import pickle\n",
    "import joblib"
   ]
  },
  {
   "cell_type": "markdown",
   "id": "6df29d6f-8435-41e3-9d1d-7401a7d6b714",
   "metadata": {
    "jp-MarkdownHeadingCollapsed": true
   },
   "source": [
    "# Load Data"
   ]
  },
  {
   "cell_type": "code",
   "execution_count": 2,
   "id": "be31329a-2c15-48bd-8703-cc61b13567ef",
   "metadata": {},
   "outputs": [],
   "source": [
    "train_df = pd.read_csv('train.csv')\n",
    "test_df = pd.read_csv('test.csv')"
   ]
  },
  {
   "cell_type": "markdown",
   "id": "32c5510a-2af6-47bb-b273-278e7868bbba",
   "metadata": {
    "jp-MarkdownHeadingCollapsed": true
   },
   "source": [
    "# Exploratory Data Analysis"
   ]
  },
  {
   "cell_type": "code",
   "execution_count": 3,
   "id": "b282e53b-c266-48df-a899-560486bdaadf",
   "metadata": {},
   "outputs": [
    {
     "data": {
      "text/plain": [
       "((404165, 12), (101041, 11))"
      ]
     },
     "execution_count": 3,
     "metadata": {},
     "output_type": "execute_result"
    }
   ],
   "source": [
    "# checking shape\n",
    "train_df.shape, test_df.shape"
   ]
  },
  {
   "cell_type": "code",
   "execution_count": 4,
   "id": "cec3c535-9546-4837-8040-8bcee6652b99",
   "metadata": {},
   "outputs": [
    {
     "data": {
      "text/html": [
       "<div>\n",
       "<style scoped>\n",
       "    .dataframe tbody tr th:only-of-type {\n",
       "        vertical-align: middle;\n",
       "    }\n",
       "\n",
       "    .dataframe tbody tr th {\n",
       "        vertical-align: top;\n",
       "    }\n",
       "\n",
       "    .dataframe thead th {\n",
       "        text-align: right;\n",
       "    }\n",
       "</style>\n",
       "<table border=\"1\" class=\"dataframe\">\n",
       "  <thead>\n",
       "    <tr style=\"text-align: right;\">\n",
       "      <th></th>\n",
       "      <th>Id</th>\n",
       "      <th>Age</th>\n",
       "      <th>Gender</th>\n",
       "      <th>Tenure</th>\n",
       "      <th>Usage Frequency</th>\n",
       "      <th>Support Calls</th>\n",
       "      <th>Payment Delay</th>\n",
       "      <th>Subscription Type</th>\n",
       "      <th>Contract Length</th>\n",
       "      <th>Total Spend</th>\n",
       "      <th>Last Interaction</th>\n",
       "      <th>Churn</th>\n",
       "    </tr>\n",
       "  </thead>\n",
       "  <tbody>\n",
       "    <tr>\n",
       "      <th>0</th>\n",
       "      <td>186878</td>\n",
       "      <td>23.0</td>\n",
       "      <td>Male</td>\n",
       "      <td>44.0</td>\n",
       "      <td>18.0</td>\n",
       "      <td>0.0</td>\n",
       "      <td>19.0</td>\n",
       "      <td>Basic</td>\n",
       "      <td>Quarterly</td>\n",
       "      <td>846.18</td>\n",
       "      <td>18.0</td>\n",
       "      <td>0.0</td>\n",
       "    </tr>\n",
       "    <tr>\n",
       "      <th>1</th>\n",
       "      <td>414188</td>\n",
       "      <td>19.0</td>\n",
       "      <td>Male</td>\n",
       "      <td>41.0</td>\n",
       "      <td>29.0</td>\n",
       "      <td>1.0</td>\n",
       "      <td>26.0</td>\n",
       "      <td>Basic</td>\n",
       "      <td>Annual</td>\n",
       "      <td>149.04</td>\n",
       "      <td>10.0</td>\n",
       "      <td>1.0</td>\n",
       "    </tr>\n",
       "    <tr>\n",
       "      <th>2</th>\n",
       "      <td>419671</td>\n",
       "      <td>40.0</td>\n",
       "      <td>Male</td>\n",
       "      <td>48.0</td>\n",
       "      <td>11.0</td>\n",
       "      <td>3.0</td>\n",
       "      <td>19.0</td>\n",
       "      <td>Basic</td>\n",
       "      <td>Annual</td>\n",
       "      <td>266.00</td>\n",
       "      <td>9.0</td>\n",
       "      <td>1.0</td>\n",
       "    </tr>\n",
       "    <tr>\n",
       "      <th>3</th>\n",
       "      <td>428771</td>\n",
       "      <td>44.0</td>\n",
       "      <td>Female</td>\n",
       "      <td>58.0</td>\n",
       "      <td>21.0</td>\n",
       "      <td>2.0</td>\n",
       "      <td>27.0</td>\n",
       "      <td>Standard</td>\n",
       "      <td>Quarterly</td>\n",
       "      <td>662.00</td>\n",
       "      <td>16.0</td>\n",
       "      <td>1.0</td>\n",
       "    </tr>\n",
       "    <tr>\n",
       "      <th>4</th>\n",
       "      <td>302010</td>\n",
       "      <td>49.0</td>\n",
       "      <td>Male</td>\n",
       "      <td>24.0</td>\n",
       "      <td>29.0</td>\n",
       "      <td>9.0</td>\n",
       "      <td>9.0</td>\n",
       "      <td>Standard</td>\n",
       "      <td>Monthly</td>\n",
       "      <td>857.00</td>\n",
       "      <td>8.0</td>\n",
       "      <td>1.0</td>\n",
       "    </tr>\n",
       "  </tbody>\n",
       "</table>\n",
       "</div>"
      ],
      "text/plain": [
       "       Id   Age  Gender  Tenure  Usage Frequency  Support Calls  \\\n",
       "0  186878  23.0    Male    44.0             18.0            0.0   \n",
       "1  414188  19.0    Male    41.0             29.0            1.0   \n",
       "2  419671  40.0    Male    48.0             11.0            3.0   \n",
       "3  428771  44.0  Female    58.0             21.0            2.0   \n",
       "4  302010  49.0    Male    24.0             29.0            9.0   \n",
       "\n",
       "   Payment Delay Subscription Type Contract Length  Total Spend  \\\n",
       "0           19.0             Basic       Quarterly       846.18   \n",
       "1           26.0             Basic          Annual       149.04   \n",
       "2           19.0             Basic          Annual       266.00   \n",
       "3           27.0          Standard       Quarterly       662.00   \n",
       "4            9.0          Standard         Monthly       857.00   \n",
       "\n",
       "   Last Interaction  Churn  \n",
       "0              18.0    0.0  \n",
       "1              10.0    1.0  \n",
       "2               9.0    1.0  \n",
       "3              16.0    1.0  \n",
       "4               8.0    1.0  "
      ]
     },
     "execution_count": 4,
     "metadata": {},
     "output_type": "execute_result"
    }
   ],
   "source": [
    "train_df.head()"
   ]
  },
  {
   "cell_type": "code",
   "execution_count": 5,
   "id": "6fadeeb6-91ce-4fef-9824-ade8af0239c8",
   "metadata": {},
   "outputs": [
    {
     "data": {
      "text/html": [
       "<div>\n",
       "<style scoped>\n",
       "    .dataframe tbody tr th:only-of-type {\n",
       "        vertical-align: middle;\n",
       "    }\n",
       "\n",
       "    .dataframe tbody tr th {\n",
       "        vertical-align: top;\n",
       "    }\n",
       "\n",
       "    .dataframe thead th {\n",
       "        text-align: right;\n",
       "    }\n",
       "</style>\n",
       "<table border=\"1\" class=\"dataframe\">\n",
       "  <thead>\n",
       "    <tr style=\"text-align: right;\">\n",
       "      <th></th>\n",
       "      <th>Id</th>\n",
       "      <th>Age</th>\n",
       "      <th>Gender</th>\n",
       "      <th>Tenure</th>\n",
       "      <th>Usage Frequency</th>\n",
       "      <th>Support Calls</th>\n",
       "      <th>Payment Delay</th>\n",
       "      <th>Subscription Type</th>\n",
       "      <th>Contract Length</th>\n",
       "      <th>Total Spend</th>\n",
       "      <th>Last Interaction</th>\n",
       "    </tr>\n",
       "  </thead>\n",
       "  <tbody>\n",
       "    <tr>\n",
       "      <th>0</th>\n",
       "      <td>105946</td>\n",
       "      <td>47.0</td>\n",
       "      <td>Male</td>\n",
       "      <td>5.0</td>\n",
       "      <td>22.0</td>\n",
       "      <td>4.0</td>\n",
       "      <td>16.0</td>\n",
       "      <td>Basic</td>\n",
       "      <td>Quarterly</td>\n",
       "      <td>252.00</td>\n",
       "      <td>27.0</td>\n",
       "    </tr>\n",
       "    <tr>\n",
       "      <th>1</th>\n",
       "      <td>101553</td>\n",
       "      <td>20.0</td>\n",
       "      <td>Male</td>\n",
       "      <td>25.0</td>\n",
       "      <td>18.0</td>\n",
       "      <td>4.0</td>\n",
       "      <td>18.0</td>\n",
       "      <td>Standard</td>\n",
       "      <td>Annual</td>\n",
       "      <td>742.00</td>\n",
       "      <td>8.0</td>\n",
       "    </tr>\n",
       "    <tr>\n",
       "      <th>2</th>\n",
       "      <td>468232</td>\n",
       "      <td>21.0</td>\n",
       "      <td>Male</td>\n",
       "      <td>49.0</td>\n",
       "      <td>14.0</td>\n",
       "      <td>6.0</td>\n",
       "      <td>12.0</td>\n",
       "      <td>Premium</td>\n",
       "      <td>Annual</td>\n",
       "      <td>668.00</td>\n",
       "      <td>19.0</td>\n",
       "    </tr>\n",
       "    <tr>\n",
       "      <th>3</th>\n",
       "      <td>249</td>\n",
       "      <td>33.0</td>\n",
       "      <td>Female</td>\n",
       "      <td>17.0</td>\n",
       "      <td>26.0</td>\n",
       "      <td>4.0</td>\n",
       "      <td>24.0</td>\n",
       "      <td>Premium</td>\n",
       "      <td>Annual</td>\n",
       "      <td>459.00</td>\n",
       "      <td>12.0</td>\n",
       "    </tr>\n",
       "    <tr>\n",
       "      <th>4</th>\n",
       "      <td>452750</td>\n",
       "      <td>46.0</td>\n",
       "      <td>Male</td>\n",
       "      <td>7.0</td>\n",
       "      <td>18.0</td>\n",
       "      <td>3.0</td>\n",
       "      <td>2.0</td>\n",
       "      <td>Standard</td>\n",
       "      <td>Annual</td>\n",
       "      <td>788.94</td>\n",
       "      <td>12.0</td>\n",
       "    </tr>\n",
       "  </tbody>\n",
       "</table>\n",
       "</div>"
      ],
      "text/plain": [
       "       Id   Age  Gender  Tenure  Usage Frequency  Support Calls  \\\n",
       "0  105946  47.0    Male     5.0             22.0            4.0   \n",
       "1  101553  20.0    Male    25.0             18.0            4.0   \n",
       "2  468232  21.0    Male    49.0             14.0            6.0   \n",
       "3     249  33.0  Female    17.0             26.0            4.0   \n",
       "4  452750  46.0    Male     7.0             18.0            3.0   \n",
       "\n",
       "   Payment Delay Subscription Type Contract Length  Total Spend  \\\n",
       "0           16.0             Basic       Quarterly       252.00   \n",
       "1           18.0          Standard          Annual       742.00   \n",
       "2           12.0           Premium          Annual       668.00   \n",
       "3           24.0           Premium          Annual       459.00   \n",
       "4            2.0          Standard          Annual       788.94   \n",
       "\n",
       "   Last Interaction  \n",
       "0              27.0  \n",
       "1               8.0  \n",
       "2              19.0  \n",
       "3              12.0  \n",
       "4              12.0  "
      ]
     },
     "execution_count": 5,
     "metadata": {},
     "output_type": "execute_result"
    }
   ],
   "source": [
    "test_df.head()"
   ]
  },
  {
   "cell_type": "code",
   "execution_count": 6,
   "id": "ef08800c-f199-459f-98dd-6436de5b1563",
   "metadata": {},
   "outputs": [
    {
     "data": {
      "text/html": [
       "<div>\n",
       "<style scoped>\n",
       "    .dataframe tbody tr th:only-of-type {\n",
       "        vertical-align: middle;\n",
       "    }\n",
       "\n",
       "    .dataframe tbody tr th {\n",
       "        vertical-align: top;\n",
       "    }\n",
       "\n",
       "    .dataframe thead th {\n",
       "        text-align: right;\n",
       "    }\n",
       "</style>\n",
       "<table border=\"1\" class=\"dataframe\">\n",
       "  <thead>\n",
       "    <tr style=\"text-align: right;\">\n",
       "      <th></th>\n",
       "      <th>Age</th>\n",
       "      <th>Gender</th>\n",
       "      <th>Tenure</th>\n",
       "      <th>Usage Frequency</th>\n",
       "      <th>Support Calls</th>\n",
       "      <th>Payment Delay</th>\n",
       "      <th>Subscription Type</th>\n",
       "      <th>Contract Length</th>\n",
       "      <th>Total Spend</th>\n",
       "      <th>Last Interaction</th>\n",
       "      <th>target</th>\n",
       "    </tr>\n",
       "  </thead>\n",
       "  <tbody>\n",
       "    <tr>\n",
       "      <th>0</th>\n",
       "      <td>23.0</td>\n",
       "      <td>Male</td>\n",
       "      <td>44.0</td>\n",
       "      <td>18.0</td>\n",
       "      <td>0.0</td>\n",
       "      <td>19.0</td>\n",
       "      <td>Basic</td>\n",
       "      <td>Quarterly</td>\n",
       "      <td>846.18</td>\n",
       "      <td>18.0</td>\n",
       "      <td>0.0</td>\n",
       "    </tr>\n",
       "    <tr>\n",
       "      <th>1</th>\n",
       "      <td>19.0</td>\n",
       "      <td>Male</td>\n",
       "      <td>41.0</td>\n",
       "      <td>29.0</td>\n",
       "      <td>1.0</td>\n",
       "      <td>26.0</td>\n",
       "      <td>Basic</td>\n",
       "      <td>Annual</td>\n",
       "      <td>149.04</td>\n",
       "      <td>10.0</td>\n",
       "      <td>1.0</td>\n",
       "    </tr>\n",
       "    <tr>\n",
       "      <th>2</th>\n",
       "      <td>40.0</td>\n",
       "      <td>Male</td>\n",
       "      <td>48.0</td>\n",
       "      <td>11.0</td>\n",
       "      <td>3.0</td>\n",
       "      <td>19.0</td>\n",
       "      <td>Basic</td>\n",
       "      <td>Annual</td>\n",
       "      <td>266.00</td>\n",
       "      <td>9.0</td>\n",
       "      <td>1.0</td>\n",
       "    </tr>\n",
       "    <tr>\n",
       "      <th>3</th>\n",
       "      <td>44.0</td>\n",
       "      <td>Female</td>\n",
       "      <td>58.0</td>\n",
       "      <td>21.0</td>\n",
       "      <td>2.0</td>\n",
       "      <td>27.0</td>\n",
       "      <td>Standard</td>\n",
       "      <td>Quarterly</td>\n",
       "      <td>662.00</td>\n",
       "      <td>16.0</td>\n",
       "      <td>1.0</td>\n",
       "    </tr>\n",
       "    <tr>\n",
       "      <th>4</th>\n",
       "      <td>49.0</td>\n",
       "      <td>Male</td>\n",
       "      <td>24.0</td>\n",
       "      <td>29.0</td>\n",
       "      <td>9.0</td>\n",
       "      <td>9.0</td>\n",
       "      <td>Standard</td>\n",
       "      <td>Monthly</td>\n",
       "      <td>857.00</td>\n",
       "      <td>8.0</td>\n",
       "      <td>1.0</td>\n",
       "    </tr>\n",
       "  </tbody>\n",
       "</table>\n",
       "</div>"
      ],
      "text/plain": [
       "    Age  Gender  Tenure  Usage Frequency  Support Calls  Payment Delay  \\\n",
       "0  23.0    Male    44.0             18.0            0.0           19.0   \n",
       "1  19.0    Male    41.0             29.0            1.0           26.0   \n",
       "2  40.0    Male    48.0             11.0            3.0           19.0   \n",
       "3  44.0  Female    58.0             21.0            2.0           27.0   \n",
       "4  49.0    Male    24.0             29.0            9.0            9.0   \n",
       "\n",
       "  Subscription Type Contract Length  Total Spend  Last Interaction  target  \n",
       "0             Basic       Quarterly       846.18              18.0     0.0  \n",
       "1             Basic          Annual       149.04              10.0     1.0  \n",
       "2             Basic          Annual       266.00               9.0     1.0  \n",
       "3          Standard       Quarterly       662.00              16.0     1.0  \n",
       "4          Standard         Monthly       857.00               8.0     1.0  "
      ]
     },
     "execution_count": 6,
     "metadata": {},
     "output_type": "execute_result"
    }
   ],
   "source": [
    "# copying IDs from test data for the submission purpose\n",
    "test_ids = test_df['Id'].copy()\n",
    "\n",
    "# dropping 'ID' column form train and test data\n",
    "train_df = train_df.drop('Id', axis=1)\n",
    "test_df = test_df.drop('Id', axis=1)\n",
    "\n",
    "# renaming 'Churn' to 'target' \n",
    "train_df.rename(columns={'Churn':'target'}, inplace=True)\n",
    "train_df[:5]"
   ]
  },
  {
   "cell_type": "markdown",
   "id": "2370e227-1e05-49a3-8433-5c883bde37eb",
   "metadata": {
    "jp-MarkdownHeadingCollapsed": true
   },
   "source": [
    "## train data analysis"
   ]
  },
  {
   "cell_type": "code",
   "execution_count": 7,
   "id": "54ae291c-89b7-4e88-a7e2-7df07c66fc2d",
   "metadata": {},
   "outputs": [
    {
     "name": "stdout",
     "output_type": "stream",
     "text": [
      "<class 'pandas.core.frame.DataFrame'>\n",
      "RangeIndex: 404165 entries, 0 to 404164\n",
      "Data columns (total 11 columns):\n",
      " #   Column             Non-Null Count   Dtype  \n",
      "---  ------             --------------   -----  \n",
      " 0   Age                404165 non-null  float64\n",
      " 1   Gender             404165 non-null  object \n",
      " 2   Tenure             404165 non-null  float64\n",
      " 3   Usage Frequency    404165 non-null  float64\n",
      " 4   Support Calls      404165 non-null  float64\n",
      " 5   Payment Delay      404165 non-null  float64\n",
      " 6   Subscription Type  404165 non-null  object \n",
      " 7   Contract Length    404165 non-null  object \n",
      " 8   Total Spend        404165 non-null  float64\n",
      " 9   Last Interaction   404165 non-null  float64\n",
      " 10  target             404165 non-null  float64\n",
      "dtypes: float64(8), object(3)\n",
      "memory usage: 33.9+ MB\n"
     ]
    }
   ],
   "source": [
    "train_df.info()"
   ]
  },
  {
   "cell_type": "code",
   "execution_count": 8,
   "id": "bc28e038-933a-4536-bcf0-4d95d4b9dbfd",
   "metadata": {},
   "outputs": [
    {
     "data": {
      "text/html": [
       "<div>\n",
       "<style scoped>\n",
       "    .dataframe tbody tr th:only-of-type {\n",
       "        vertical-align: middle;\n",
       "    }\n",
       "\n",
       "    .dataframe tbody tr th {\n",
       "        vertical-align: top;\n",
       "    }\n",
       "\n",
       "    .dataframe thead th {\n",
       "        text-align: right;\n",
       "    }\n",
       "</style>\n",
       "<table border=\"1\" class=\"dataframe\">\n",
       "  <thead>\n",
       "    <tr style=\"text-align: right;\">\n",
       "      <th></th>\n",
       "      <th>Age</th>\n",
       "      <th>Tenure</th>\n",
       "      <th>Usage Frequency</th>\n",
       "      <th>Support Calls</th>\n",
       "      <th>Payment Delay</th>\n",
       "      <th>Total Spend</th>\n",
       "      <th>Last Interaction</th>\n",
       "      <th>target</th>\n",
       "    </tr>\n",
       "  </thead>\n",
       "  <tbody>\n",
       "    <tr>\n",
       "      <th>count</th>\n",
       "      <td>404165.000000</td>\n",
       "      <td>404165.000000</td>\n",
       "      <td>404165.000000</td>\n",
       "      <td>404165.000000</td>\n",
       "      <td>404165.000000</td>\n",
       "      <td>404165.000000</td>\n",
       "      <td>404165.000000</td>\n",
       "      <td>404165.000000</td>\n",
       "    </tr>\n",
       "    <tr>\n",
       "      <th>mean</th>\n",
       "      <td>39.709388</td>\n",
       "      <td>31.346693</td>\n",
       "      <td>15.718976</td>\n",
       "      <td>3.830703</td>\n",
       "      <td>13.494808</td>\n",
       "      <td>620.278390</td>\n",
       "      <td>14.603890</td>\n",
       "      <td>0.554776</td>\n",
       "    </tr>\n",
       "    <tr>\n",
       "      <th>std</th>\n",
       "      <td>12.681057</td>\n",
       "      <td>17.231919</td>\n",
       "      <td>8.617287</td>\n",
       "      <td>3.134619</td>\n",
       "      <td>8.453428</td>\n",
       "      <td>245.179751</td>\n",
       "      <td>8.609196</td>\n",
       "      <td>0.496991</td>\n",
       "    </tr>\n",
       "    <tr>\n",
       "      <th>min</th>\n",
       "      <td>18.000000</td>\n",
       "      <td>1.000000</td>\n",
       "      <td>1.000000</td>\n",
       "      <td>0.000000</td>\n",
       "      <td>0.000000</td>\n",
       "      <td>100.000000</td>\n",
       "      <td>1.000000</td>\n",
       "      <td>0.000000</td>\n",
       "    </tr>\n",
       "    <tr>\n",
       "      <th>25%</th>\n",
       "      <td>29.000000</td>\n",
       "      <td>16.000000</td>\n",
       "      <td>8.000000</td>\n",
       "      <td>1.000000</td>\n",
       "      <td>6.000000</td>\n",
       "      <td>446.670000</td>\n",
       "      <td>7.000000</td>\n",
       "      <td>0.000000</td>\n",
       "    </tr>\n",
       "    <tr>\n",
       "      <th>50%</th>\n",
       "      <td>40.000000</td>\n",
       "      <td>32.000000</td>\n",
       "      <td>16.000000</td>\n",
       "      <td>3.000000</td>\n",
       "      <td>13.000000</td>\n",
       "      <td>649.000000</td>\n",
       "      <td>14.000000</td>\n",
       "      <td>1.000000</td>\n",
       "    </tr>\n",
       "    <tr>\n",
       "      <th>75%</th>\n",
       "      <td>49.000000</td>\n",
       "      <td>46.000000</td>\n",
       "      <td>23.000000</td>\n",
       "      <td>6.000000</td>\n",
       "      <td>20.000000</td>\n",
       "      <td>824.000000</td>\n",
       "      <td>22.000000</td>\n",
       "      <td>1.000000</td>\n",
       "    </tr>\n",
       "    <tr>\n",
       "      <th>max</th>\n",
       "      <td>65.000000</td>\n",
       "      <td>60.000000</td>\n",
       "      <td>30.000000</td>\n",
       "      <td>10.000000</td>\n",
       "      <td>30.000000</td>\n",
       "      <td>1000.000000</td>\n",
       "      <td>30.000000</td>\n",
       "      <td>1.000000</td>\n",
       "    </tr>\n",
       "  </tbody>\n",
       "</table>\n",
       "</div>"
      ],
      "text/plain": [
       "                 Age         Tenure  Usage Frequency  Support Calls  \\\n",
       "count  404165.000000  404165.000000    404165.000000  404165.000000   \n",
       "mean       39.709388      31.346693        15.718976       3.830703   \n",
       "std        12.681057      17.231919         8.617287       3.134619   \n",
       "min        18.000000       1.000000         1.000000       0.000000   \n",
       "25%        29.000000      16.000000         8.000000       1.000000   \n",
       "50%        40.000000      32.000000        16.000000       3.000000   \n",
       "75%        49.000000      46.000000        23.000000       6.000000   \n",
       "max        65.000000      60.000000        30.000000      10.000000   \n",
       "\n",
       "       Payment Delay    Total Spend  Last Interaction         target  \n",
       "count  404165.000000  404165.000000     404165.000000  404165.000000  \n",
       "mean       13.494808     620.278390         14.603890       0.554776  \n",
       "std         8.453428     245.179751          8.609196       0.496991  \n",
       "min         0.000000     100.000000          1.000000       0.000000  \n",
       "25%         6.000000     446.670000          7.000000       0.000000  \n",
       "50%        13.000000     649.000000         14.000000       1.000000  \n",
       "75%        20.000000     824.000000         22.000000       1.000000  \n",
       "max        30.000000    1000.000000         30.000000       1.000000  "
      ]
     },
     "execution_count": 8,
     "metadata": {},
     "output_type": "execute_result"
    }
   ],
   "source": [
    "train_df.describe()"
   ]
  },
  {
   "cell_type": "code",
   "execution_count": 9,
   "id": "3328972d-b8a0-4cd7-9f14-48bc963d47d6",
   "metadata": {},
   "outputs": [
    {
     "data": {
      "text/plain": [
       "Age                  0\n",
       "Gender               0\n",
       "Tenure               0\n",
       "Usage Frequency      0\n",
       "Support Calls        0\n",
       "Payment Delay        0\n",
       "Subscription Type    0\n",
       "Contract Length      0\n",
       "Total Spend          0\n",
       "Last Interaction     0\n",
       "target               0\n",
       "dtype: int64"
      ]
     },
     "execution_count": 9,
     "metadata": {},
     "output_type": "execute_result"
    }
   ],
   "source": [
    "# checking null value\n",
    "train_df.isna().sum()"
   ]
  },
  {
   "cell_type": "code",
   "execution_count": 10,
   "id": "e722a238-8409-41b6-8432-46215d18c722",
   "metadata": {},
   "outputs": [
    {
     "data": {
      "text/plain": [
       "Age                  0\n",
       "Gender               0\n",
       "Tenure               0\n",
       "Usage Frequency      0\n",
       "Support Calls        0\n",
       "Payment Delay        0\n",
       "Subscription Type    0\n",
       "Contract Length      0\n",
       "Total Spend          0\n",
       "Last Interaction     0\n",
       "target               0\n",
       "dtype: int64"
      ]
     },
     "execution_count": 10,
     "metadata": {},
     "output_type": "execute_result"
    }
   ],
   "source": [
    "train_df.isnull().sum()"
   ]
  },
  {
   "cell_type": "code",
   "execution_count": 11,
   "id": "a5e5138b-ed2f-426b-93cb-422cd6a53e0e",
   "metadata": {},
   "outputs": [
    {
     "data": {
      "text/plain": [
       "np.int64(0)"
      ]
     },
     "execution_count": 11,
     "metadata": {},
     "output_type": "execute_result"
    }
   ],
   "source": [
    "train_df.duplicated().sum()"
   ]
  },
  {
   "cell_type": "code",
   "execution_count": 12,
   "id": "a9d77f8b-16e7-4b9e-bd94-9bb66425e89d",
   "metadata": {},
   "outputs": [
    {
     "data": {
      "text/plain": [
       "target\n",
       "1.0    224221\n",
       "0.0    179944\n",
       "Name: count, dtype: int64"
      ]
     },
     "execution_count": 12,
     "metadata": {},
     "output_type": "execute_result"
    }
   ],
   "source": [
    "target_counts = train_df['target'].value_counts()\n",
    "target_counts"
   ]
  },
  {
   "cell_type": "code",
   "execution_count": 13,
   "id": "5cba7721-7a35-4e45-9c84-b1c88898780a",
   "metadata": {},
   "outputs": [
    {
     "data": {
      "image/png": "[encoded data removed]",
      "text/plain": [
       "<Figure size 640x480 with 1 Axes>"
      ]
     },
     "metadata": {},
     "output_type": "display_data"
    }
   ],
   "source": [
    "target_counts.plot(kind='bar')\n",
    "plt.show()"
   ]
  },
  {
   "cell_type": "markdown",
   "id": "cd3138f0-2bd0-4147-9440-05f72e1d6a78",
   "metadata": {
    "jp-MarkdownHeadingCollapsed": true
   },
   "source": [
    "### Univariate Analysis (analysis of single variable/feature)"
   ]
  },
  {
   "cell_type": "code",
   "execution_count": 14,
   "id": "89499c49-4810-4bbb-aca4-4682913cea07",
   "metadata": {},
   "outputs": [],
   "source": [
    "# creating re-usable functions for Univariate analysis\n",
    "def check_skewness(df):\n",
    "    \"\"\"\n",
    "    gives skewness of numerical data\n",
    "    \"\"\"\n",
    "    return df.skew(numeric_only=True)\n",
    "\n",
    "def categorical_analysis(df):\n",
    "    \"\"\"\n",
    "    takes dataframe and shows its value_counts, missing_value and also plots barplot of each col\n",
    "    \"\"\"\n",
    "    cat_col = df.select_dtypes(include=['object']).columns\n",
    "    for col in cat_col:\n",
    "        print(f\"\\nfeature:  {col}\")\n",
    "        print(df[col].value_counts(normalize=True))\n",
    "        print(f\"missing: {df[col].isnull().sum()}\")\n",
    "        print(df[col].value_counts().plot(kind='bar'))\n",
    "        plt.show()"
   ]
  },
  {
   "cell_type": "code",
   "execution_count": 15,
   "id": "79ae9659-b380-4a80-ad67-038f85d4562e",
   "metadata": {},
   "outputs": [
    {
     "data": {
      "text/plain": [
       "Age                 0.143368\n",
       "Tenure             -0.069591\n",
       "Usage Frequency    -0.035075\n",
       "Support Calls       0.544875\n",
       "Payment Delay       0.199874\n",
       "Total Spend        -0.396349\n",
       "Last Interaction    0.155220\n",
       "target             -0.220431\n",
       "dtype: float64"
      ]
     },
     "execution_count": 15,
     "metadata": {},
     "output_type": "execute_result"
    }
   ],
   "source": [
    "check_skewness(train_df)"
   ]
  },
  {
   "cell_type": "code",
   "execution_count": 16,
   "id": "6fa06fd9-e5e9-4943-a893-560930fd1d0a",
   "metadata": {},
   "outputs": [
    {
     "name": "stdout",
     "output_type": "stream",
     "text": [
      "\n",
      "feature:  Gender\n",
      "Gender\n",
      "Male      0.555043\n",
      "Female    0.444957\n",
      "Name: proportion, dtype: float64\n",
      "missing: 0\n",
      "Axes(0.125,0.11;0.775x0.77)\n"
     ]
    },
    {
     "data": {
      "image/png": "[encoded data removed]",
      "text/plain": [
       "<Figure size 640x480 with 1 Axes>"
      ]
     },
     "metadata": {},
     "output_type": "display_data"
    },
    {
     "name": "stdout",
     "output_type": "stream",
     "text": [
      "\n",
      "feature:  Subscription Type\n",
      "Subscription Type\n",
      "Standard    0.337360\n",
      "Premium     0.336479\n",
      "Basic       0.326161\n",
      "Name: proportion, dtype: float64\n",
      "missing: 0\n",
      "Axes(0.125,0.11;0.775x0.77)\n"
     ]
    },
    {
     "data": {
      "image/png": "[encoded data removed]",
      "text/plain": [
       "<Figure size 640x480 with 1 Axes>"
      ]
     },
     "metadata": {},
     "output_type": "display_data"
    },
    {
     "name": "stdout",
     "output_type": "stream",
     "text": [
      "\n",
      "feature:  Contract Length\n",
      "Contract Length\n",
      "Annual       0.393273\n",
      "Quarterly    0.390823\n",
      "Monthly      0.215904\n",
      "Name: proportion, dtype: float64\n",
      "missing: 0\n",
      "Axes(0.125,0.11;0.775x0.77)\n"
     ]
    },
    {
     "data": {
      "image/png": "[encoded data removed]",
      "text/plain": [
       "<Figure size 640x480 with 1 Axes>"
      ]
     },
     "metadata": {},
     "output_type": "display_data"
    }
   ],
   "source": [
    "# Analysing the categorical columns in the data\n",
    "categorical_analysis(train_df)"
   ]
  },
  {
   "cell_type": "markdown",
   "id": "7f9f4b90-044f-4f7f-ace1-9b04101079c9",
   "metadata": {
    "jp-MarkdownHeadingCollapsed": true
   },
   "source": [
    "### Bivariate analysis (comparing one column/feature with the other one)"
   ]
  },
  {
   "cell_type": "markdown",
   "id": "e9ace8d0-eeb3-464b-bd15-4240db2ea81c",
   "metadata": {},
   "source": [
    "**checking impact of each feature on target value**"
   ]
  },
  {
   "cell_type": "code",
   "execution_count": 17,
   "id": "d0cfaa60-3fe7-46c2-af44-7b1345ebe0c3",
   "metadata": {},
   "outputs": [
    {
     "data": {
      "image/png": "[encoded data removed]",
      "text/plain": [
       "<Figure size 1200x1600 with 7 Axes>"
      ]
     },
     "metadata": {},
     "output_type": "display_data"
    }
   ],
   "source": [
    "# Numerical_column vs target\n",
    "def num_vs_target(df):\n",
    "    \"\"\"\n",
    "    takes dataframe and plots barplot with mean of each numerical col and target\n",
    "    \"\"\"\n",
    "    num_col = df.select_dtypes(include=['int64', 'float64']).columns.drop('target', errors='ignore')\n",
    "    n_cols = 2\n",
    "    n_rows = (len(num_col) + 1) // n_cols\n",
    "\n",
    "    # Creating subplots\n",
    "    fig, axes = plt.subplots(n_rows, n_cols, figsize=(12, n_rows * 4))\n",
    "    axes = axes.flatten()\n",
    "\n",
    "    # for loop through each plot\n",
    "    for i, col in enumerate(num_col):\n",
    "        sns.barplot(x='target', y=col, data=df, estimator='mean', ax=axes[i], errorbar=None)\n",
    "        axes[i].set_title(f'Mean {col} by Target')\n",
    "        axes[i].set_xlabel('Target')\n",
    "        axes[i].set_ylabel(col)\n",
    "\n",
    "    # Hiding any unused subplots\n",
    "    for j in range(i+1, len(axes)):\n",
    "        fig.delaxes(axes[j])\n",
    "\n",
    "    plt.tight_layout()\n",
    "    plt.show()\n",
    "\n",
    "\n",
    "# Using functions\n",
    "num_vs_target(train_df)"
   ]
  },
  {
   "cell_type": "markdown",
   "id": "7928b0a2-3062-4ba4-8866-dc1f9fae7140",
   "metadata": {},
   "source": [
    "According to EDA, `Support_calls`, `Payment_delay`, and `Total_spend` has some influence on target value"
   ]
  },
  {
   "cell_type": "markdown",
   "id": "5400cbca-21d8-41d2-aed5-48ad3bcfd92b",
   "metadata": {
    "jp-MarkdownHeadingCollapsed": true
   },
   "source": [
    "#### Applying crosstab on categorical feature vs target"
   ]
  },
  {
   "cell_type": "code",
   "execution_count": 18,
   "id": "a3a5e25e-b853-484e-84c2-abaff95f2636",
   "metadata": {},
   "outputs": [],
   "source": [
    "def cat_vs_tar(df):\n",
    "    \"\"\"\n",
    "    takes dataframe as input and makes crosstab with each categorical column and target value to show the proportion between them\n",
    "    \"\"\"\n",
    "    cat_col = df.select_dtypes(include=['object']).columns\n",
    "    for col in cat_col:\n",
    "        print(f'Categorical_feature: {col}')\n",
    "        print('\\n')\n",
    "        cr_tab = pd.crosstab(df[col], df['target'], normalize='index')\n",
    "        print(cr_tab)\n",
    "        print('\\n' + '-'*50 + '\\n')"
   ]
  },
  {
   "cell_type": "code",
   "execution_count": 19,
   "id": "cc934c3f-8664-4f27-8c4b-33375770afc2",
   "metadata": {},
   "outputs": [
    {
     "name": "stdout",
     "output_type": "stream",
     "text": [
      "Categorical_feature: Gender\n",
      "\n",
      "\n",
      "target       0.0       1.0\n",
      "Gender                    \n",
      "Female  0.351465  0.648535\n",
      "Male    0.520387  0.479613\n",
      "\n",
      "--------------------------------------------------\n",
      "\n",
      "Categorical_feature: Subscription Type\n",
      "\n",
      "\n",
      "target                  0.0       1.0\n",
      "Subscription Type                    \n",
      "Basic              0.431207  0.568793\n",
      "Premium            0.452656  0.547344\n",
      "Standard           0.451364  0.548636\n",
      "\n",
      "--------------------------------------------------\n",
      "\n",
      "Categorical_feature: Contract Length\n",
      "\n",
      "\n",
      "target                0.0       1.0\n",
      "Contract Length                    \n",
      "Annual           0.538683  0.461317\n",
      "Monthly          0.099185  0.900815\n",
      "Quarterly        0.542344  0.457656\n",
      "\n",
      "--------------------------------------------------\n",
      "\n"
     ]
    }
   ],
   "source": [
    "cat_vs_tar(train_df)"
   ]
  },
  {
   "cell_type": "code",
   "execution_count": 20,
   "id": "976df3e1-c619-4396-a1a3-3b414a85f272",
   "metadata": {},
   "outputs": [
    {
     "data": {
      "text/html": [
       "<div>\n",
       "<style scoped>\n",
       "    .dataframe tbody tr th:only-of-type {\n",
       "        vertical-align: middle;\n",
       "    }\n",
       "\n",
       "    .dataframe tbody tr th {\n",
       "        vertical-align: top;\n",
       "    }\n",
       "\n",
       "    .dataframe thead th {\n",
       "        text-align: right;\n",
       "    }\n",
       "</style>\n",
       "<table border=\"1\" class=\"dataframe\">\n",
       "  <thead>\n",
       "    <tr style=\"text-align: right;\">\n",
       "      <th></th>\n",
       "      <th>Age</th>\n",
       "      <th>Tenure</th>\n",
       "      <th>Usage Frequency</th>\n",
       "      <th>Support Calls</th>\n",
       "      <th>Payment Delay</th>\n",
       "      <th>Total Spend</th>\n",
       "      <th>Last Interaction</th>\n",
       "      <th>target</th>\n",
       "    </tr>\n",
       "  </thead>\n",
       "  <tbody>\n",
       "    <tr>\n",
       "      <th>Age</th>\n",
       "      <td>1.000000</td>\n",
       "      <td>-0.010521</td>\n",
       "      <td>-0.013961</td>\n",
       "      <td>0.147275</td>\n",
       "      <td>0.059997</td>\n",
       "      <td>-0.078772</td>\n",
       "      <td>0.027969</td>\n",
       "      <td>0.191968</td>\n",
       "    </tr>\n",
       "    <tr>\n",
       "      <th>Tenure</th>\n",
       "      <td>-0.010521</td>\n",
       "      <td>1.000000</td>\n",
       "      <td>-0.020026</td>\n",
       "      <td>-0.013351</td>\n",
       "      <td>-0.004560</td>\n",
       "      <td>0.015854</td>\n",
       "      <td>-0.005630</td>\n",
       "      <td>-0.021624</td>\n",
       "    </tr>\n",
       "    <tr>\n",
       "      <th>Usage Frequency</th>\n",
       "      <td>-0.013961</td>\n",
       "      <td>-0.020026</td>\n",
       "      <td>1.000000</td>\n",
       "      <td>-0.025644</td>\n",
       "      <td>-0.012951</td>\n",
       "      <td>0.019539</td>\n",
       "      <td>-0.006023</td>\n",
       "      <td>-0.053905</td>\n",
       "    </tr>\n",
       "    <tr>\n",
       "      <th>Support Calls</th>\n",
       "      <td>0.147275</td>\n",
       "      <td>-0.013351</td>\n",
       "      <td>-0.025644</td>\n",
       "      <td>1.000000</td>\n",
       "      <td>0.175884</td>\n",
       "      <td>-0.206405</td>\n",
       "      <td>0.074856</td>\n",
       "      <td>0.516792</td>\n",
       "    </tr>\n",
       "    <tr>\n",
       "      <th>Payment Delay</th>\n",
       "      <td>0.059997</td>\n",
       "      <td>-0.004560</td>\n",
       "      <td>-0.012951</td>\n",
       "      <td>0.175884</td>\n",
       "      <td>1.000000</td>\n",
       "      <td>-0.125687</td>\n",
       "      <td>0.042137</td>\n",
       "      <td>0.330412</td>\n",
       "    </tr>\n",
       "    <tr>\n",
       "      <th>Total Spend</th>\n",
       "      <td>-0.078772</td>\n",
       "      <td>0.015854</td>\n",
       "      <td>0.019539</td>\n",
       "      <td>-0.206405</td>\n",
       "      <td>-0.125687</td>\n",
       "      <td>1.000000</td>\n",
       "      <td>-0.055164</td>\n",
       "      <td>-0.369074</td>\n",
       "    </tr>\n",
       "    <tr>\n",
       "      <th>Last Interaction</th>\n",
       "      <td>0.027969</td>\n",
       "      <td>-0.005630</td>\n",
       "      <td>-0.006023</td>\n",
       "      <td>0.074856</td>\n",
       "      <td>0.042137</td>\n",
       "      <td>-0.055164</td>\n",
       "      <td>1.000000</td>\n",
       "      <td>0.127598</td>\n",
       "    </tr>\n",
       "    <tr>\n",
       "      <th>target</th>\n",
       "      <td>0.191968</td>\n",
       "      <td>-0.021624</td>\n",
       "      <td>-0.053905</td>\n",
       "      <td>0.516792</td>\n",
       "      <td>0.330412</td>\n",
       "      <td>-0.369074</td>\n",
       "      <td>0.127598</td>\n",
       "      <td>1.000000</td>\n",
       "    </tr>\n",
       "  </tbody>\n",
       "</table>\n",
       "</div>"
      ],
      "text/plain": [
       "                       Age    Tenure  Usage Frequency  Support Calls  \\\n",
       "Age               1.000000 -0.010521        -0.013961       0.147275   \n",
       "Tenure           -0.010521  1.000000        -0.020026      -0.013351   \n",
       "Usage Frequency  -0.013961 -0.020026         1.000000      -0.025644   \n",
       "Support Calls     0.147275 -0.013351        -0.025644       1.000000   \n",
       "Payment Delay     0.059997 -0.004560        -0.012951       0.175884   \n",
       "Total Spend      -0.078772  0.015854         0.019539      -0.206405   \n",
       "Last Interaction  0.027969 -0.005630        -0.006023       0.074856   \n",
       "target            0.191968 -0.021624        -0.053905       0.516792   \n",
       "\n",
       "                  Payment Delay  Total Spend  Last Interaction    target  \n",
       "Age                    0.059997    -0.078772          0.027969  0.191968  \n",
       "Tenure                -0.004560     0.015854         -0.005630 -0.021624  \n",
       "Usage Frequency       -0.012951     0.019539         -0.006023 -0.053905  \n",
       "Support Calls          0.175884    -0.206405          0.074856  0.516792  \n",
       "Payment Delay          1.000000    -0.125687          0.042137  0.330412  \n",
       "Total Spend           -0.125687     1.000000         -0.055164 -0.369074  \n",
       "Last Interaction       0.042137    -0.055164          1.000000  0.127598  \n",
       "target                 0.330412    -0.369074          0.127598  1.000000  "
      ]
     },
     "execution_count": 20,
     "metadata": {},
     "output_type": "execute_result"
    }
   ],
   "source": [
    "# Correlation matrix\n",
    "train_df_corr = train_df.corr(numeric_only=True)\n",
    "train_df_corr"
   ]
  },
  {
   "cell_type": "code",
   "execution_count": 21,
   "id": "0cb5996e-c7d4-4395-9f1f-8767f320c203",
   "metadata": {},
   "outputs": [
    {
     "data": {
      "image/png": "[encoded data removed]",
      "text/plain": [
       "<Figure size 1000x600 with 2 Axes>"
      ]
     },
     "metadata": {},
     "output_type": "display_data"
    }
   ],
   "source": [
    "# Visualizing train_df_corr\n",
    "plt.figure(figsize=(10, 6))\n",
    "sns.heatmap(train_df_corr, cmap='BuGn', annot=True)\n",
    "plt.show()"
   ]
  },
  {
   "cell_type": "markdown",
   "id": "cbea4bdb-369e-452d-84e6-aaea08b7bd60",
   "metadata": {},
   "source": [
    "**Analysis**\n",
    "1. More `support calls`, more frustated the customer, thus high chances of churn\n",
    "2. More `payment delay`, high chance of churning\n",
    "3. More time gap in `last interaction`, higher the chance of churning\n",
    "4. Less `total spend` on products, high chance of churning"
   ]
  },
  {
   "cell_type": "code",
   "execution_count": 22,
   "id": "d77502f9-0094-42a7-a2d3-05965e17e6f2",
   "metadata": {},
   "outputs": [
    {
     "name": "stdout",
     "output_type": "stream",
     "text": [
      "Gender_p-value = 0.0\n",
      "Subscription Type_p-value = 1.2835096494611652e-34\n",
      "Contract Length_p-value = 0.0\n"
     ]
    }
   ],
   "source": [
    "# Categorical column vs target\n",
    "from scipy.stats import chi2_contingency\n",
    "def cat_vs_target(df):\n",
    "    \"\"\"\n",
    "    gives chi-sqaure value that shows the relationship of categorical column to the target\n",
    "    \"\"\"\n",
    "    cat_col = df.select_dtypes(['object']).columns\n",
    "    for col in cat_col:\n",
    "        contingency_table = pd.crosstab(df[col], df['target'])\n",
    "        chi2, p, _, _ = chi2_contingency(contingency_table)\n",
    "        print(f\"{col}_p-value = {p}\")\n",
    "\n",
    "cat_vs_target(train_df)"
   ]
  },
  {
   "cell_type": "markdown",
   "id": "0901e89b-43ec-47c9-a3d9-d6b14783fecb",
   "metadata": {
    "jp-MarkdownHeadingCollapsed": true
   },
   "source": [
    "#### Detecting outliers"
   ]
  },
  {
   "cell_type": "code",
   "execution_count": 23,
   "id": "179ee5d3-2997-4b5c-9c8d-3f05a93b91e7",
   "metadata": {},
   "outputs": [
    {
     "data": {
      "text/plain": [
       "{'Age': {'num_outliers': 0},\n",
       " 'Tenure': {'num_outliers': 0},\n",
       " 'Usage Frequency': {'num_outliers': 0},\n",
       " 'Support Calls': {'num_outliers': 0},\n",
       " 'Payment Delay': {'num_outliers': 0},\n",
       " 'Total Spend': {'num_outliers': 0},\n",
       " 'Last Interaction': {'num_outliers': 0},\n",
       " 'target': {'num_outliers': 0}}"
      ]
     },
     "execution_count": 23,
     "metadata": {},
     "output_type": "execute_result"
    }
   ],
   "source": [
    "def detect_outliers_iqr(df, threshold=1.5):\n",
    "    outlier_info = {}\n",
    "\n",
    "    # Loop through all numerical columns\n",
    "    for col in df.select_dtypes(include='number').columns:\n",
    "        Q1 = df[col].quantile(0.25)\n",
    "        Q3 = df[col].quantile(0.75)\n",
    "        IQR = Q3 - Q1\n",
    "        lower_bound = Q1 - threshold * IQR\n",
    "        upper_bound = Q3 + threshold * IQR\n",
    "\n",
    "        outliers = df[(df[col] < lower_bound) | (df[col] > upper_bound)]\n",
    "        outlier_info[col] = {\n",
    "            \"num_outliers\": outliers.shape[0],\n",
    "          #  \"outlier_indices\": outliers.index.tolist()\n",
    "        }\n",
    "\n",
    "    return outlier_info\n",
    "\n",
    "# Using function\n",
    "detect_outliers_iqr(train_df)"
   ]
  },
  {
   "cell_type": "code",
   "execution_count": 24,
   "id": "b17d0a6c-96c1-4245-8ed5-1b239ffb14ce",
   "metadata": {},
   "outputs": [
    {
     "data": {
      "image/png": "[encoded data removed]",
      "text/plain": [
       "<Figure size 1200x1600 with 7 Axes>"
      ]
     },
     "metadata": {},
     "output_type": "display_data"
    }
   ],
   "source": [
    "# Visualizing boxplot to see the number of outliers\n",
    "num_col = train_df.select_dtypes(include=['int64', 'float64']).columns.drop('target', errors='ignore')\n",
    "n_cols = 2\n",
    "n_rows = (len(num_col) + 1) // n_cols\n",
    "\n",
    "# Creating subplots\n",
    "fig, axes = plt.subplots(n_rows, n_cols, figsize=(12, n_rows * 4))\n",
    "axes = axes.flatten()\n",
    "\n",
    "for i, col in enumerate(num_col):\n",
    "    sns.boxplot(x=train_df[col], ax=axes[i])\n",
    "    axes[i].set_title(f'boxplot for {col}')\n",
    "    \n",
    "# Hide unused subplots if number of columns is odd\n",
    "for j in range(i+1, len(axes)):\n",
    "    fig.delaxes(axes[j])\n",
    "\n",
    "plt.tight_layout()\n",
    "plt.show()   "
   ]
  },
  {
   "cell_type": "code",
   "execution_count": 25,
   "id": "16580a3d-138f-44cd-a706-ce2a3fbcd6d8",
   "metadata": {},
   "outputs": [],
   "source": [
    "# Visualizing  numerical columns using hist plot\n",
    "def plot_hist(df):\n",
    "    num_col = df.select_dtypes(include=['int64', 'float64']).columns.drop('target', errors='ignore')\n",
    "    n_cols = 2\n",
    "    n_rows = (len(num_col) + 1) // n_cols\n",
    "    \n",
    "    # Creating subplots\n",
    "    fig, axes = plt.subplots(n_rows, n_cols, figsize=(12, n_rows * 4))\n",
    "    axes = axes.flatten()\n",
    "\n",
    "    # looping through num_col\n",
    "    for i, col in enumerate(num_col):\n",
    "        df[col].plot(kind='hist', ax = axes[i], bins=30, color='skyblue', edgecolor = 'black')\n",
    "        axes[i].set_xlabel(col)\n",
    "        \n",
    "    # Hide unused subplots if number of columns is odd\n",
    "    for j in range(i+1, len(axes)):\n",
    "        fig.delaxes(axes[j])\n",
    "\n",
    "    plt.tight_layout()\n",
    "    plt.show()"
   ]
  },
  {
   "cell_type": "code",
   "execution_count": 26,
   "id": "7028bb3f-4b31-4f53-82dc-2942d86a9699",
   "metadata": {},
   "outputs": [
    {
     "data": {
      "image/png": "[encoded data removed]",
      "text/plain": [
       "<Figure size 1200x1600 with 7 Axes>"
      ]
     },
     "metadata": {},
     "output_type": "display_data"
    }
   ],
   "source": [
    "plot_hist(train_df)"
   ]
  },
  {
   "cell_type": "markdown",
   "id": "eb23bc59-84ac-4c73-a7a5-ca6a1a2644e5",
   "metadata": {
    "jp-MarkdownHeadingCollapsed": true
   },
   "source": [
    "## test data analysis"
   ]
  },
  {
   "cell_type": "code",
   "execution_count": 27,
   "id": "9891aa00-633e-476b-a3b0-8669cffdc787",
   "metadata": {},
   "outputs": [
    {
     "data": {
      "text/plain": [
       "(101041, 10)"
      ]
     },
     "execution_count": 27,
     "metadata": {},
     "output_type": "execute_result"
    }
   ],
   "source": [
    "test_df.shape"
   ]
  },
  {
   "cell_type": "code",
   "execution_count": 28,
   "id": "0cc9d9b6-2b4b-42a2-bcff-ed9c1dfc9b53",
   "metadata": {},
   "outputs": [
    {
     "data": {
      "text/html": [
       "<div>\n",
       "<style scoped>\n",
       "    .dataframe tbody tr th:only-of-type {\n",
       "        vertical-align: middle;\n",
       "    }\n",
       "\n",
       "    .dataframe tbody tr th {\n",
       "        vertical-align: top;\n",
       "    }\n",
       "\n",
       "    .dataframe thead th {\n",
       "        text-align: right;\n",
       "    }\n",
       "</style>\n",
       "<table border=\"1\" class=\"dataframe\">\n",
       "  <thead>\n",
       "    <tr style=\"text-align: right;\">\n",
       "      <th></th>\n",
       "      <th>Age</th>\n",
       "      <th>Gender</th>\n",
       "      <th>Tenure</th>\n",
       "      <th>Usage Frequency</th>\n",
       "      <th>Support Calls</th>\n",
       "      <th>Payment Delay</th>\n",
       "      <th>Subscription Type</th>\n",
       "      <th>Contract Length</th>\n",
       "      <th>Total Spend</th>\n",
       "      <th>Last Interaction</th>\n",
       "    </tr>\n",
       "  </thead>\n",
       "  <tbody>\n",
       "    <tr>\n",
       "      <th>0</th>\n",
       "      <td>47.0</td>\n",
       "      <td>Male</td>\n",
       "      <td>5.0</td>\n",
       "      <td>22.0</td>\n",
       "      <td>4.0</td>\n",
       "      <td>16.0</td>\n",
       "      <td>Basic</td>\n",
       "      <td>Quarterly</td>\n",
       "      <td>252.00</td>\n",
       "      <td>27.0</td>\n",
       "    </tr>\n",
       "    <tr>\n",
       "      <th>1</th>\n",
       "      <td>20.0</td>\n",
       "      <td>Male</td>\n",
       "      <td>25.0</td>\n",
       "      <td>18.0</td>\n",
       "      <td>4.0</td>\n",
       "      <td>18.0</td>\n",
       "      <td>Standard</td>\n",
       "      <td>Annual</td>\n",
       "      <td>742.00</td>\n",
       "      <td>8.0</td>\n",
       "    </tr>\n",
       "    <tr>\n",
       "      <th>2</th>\n",
       "      <td>21.0</td>\n",
       "      <td>Male</td>\n",
       "      <td>49.0</td>\n",
       "      <td>14.0</td>\n",
       "      <td>6.0</td>\n",
       "      <td>12.0</td>\n",
       "      <td>Premium</td>\n",
       "      <td>Annual</td>\n",
       "      <td>668.00</td>\n",
       "      <td>19.0</td>\n",
       "    </tr>\n",
       "    <tr>\n",
       "      <th>3</th>\n",
       "      <td>33.0</td>\n",
       "      <td>Female</td>\n",
       "      <td>17.0</td>\n",
       "      <td>26.0</td>\n",
       "      <td>4.0</td>\n",
       "      <td>24.0</td>\n",
       "      <td>Premium</td>\n",
       "      <td>Annual</td>\n",
       "      <td>459.00</td>\n",
       "      <td>12.0</td>\n",
       "    </tr>\n",
       "    <tr>\n",
       "      <th>4</th>\n",
       "      <td>46.0</td>\n",
       "      <td>Male</td>\n",
       "      <td>7.0</td>\n",
       "      <td>18.0</td>\n",
       "      <td>3.0</td>\n",
       "      <td>2.0</td>\n",
       "      <td>Standard</td>\n",
       "      <td>Annual</td>\n",
       "      <td>788.94</td>\n",
       "      <td>12.0</td>\n",
       "    </tr>\n",
       "  </tbody>\n",
       "</table>\n",
       "</div>"
      ],
      "text/plain": [
       "    Age  Gender  Tenure  Usage Frequency  Support Calls  Payment Delay  \\\n",
       "0  47.0    Male     5.0             22.0            4.0           16.0   \n",
       "1  20.0    Male    25.0             18.0            4.0           18.0   \n",
       "2  21.0    Male    49.0             14.0            6.0           12.0   \n",
       "3  33.0  Female    17.0             26.0            4.0           24.0   \n",
       "4  46.0    Male     7.0             18.0            3.0            2.0   \n",
       "\n",
       "  Subscription Type Contract Length  Total Spend  Last Interaction  \n",
       "0             Basic       Quarterly       252.00              27.0  \n",
       "1          Standard          Annual       742.00               8.0  \n",
       "2           Premium          Annual       668.00              19.0  \n",
       "3           Premium          Annual       459.00              12.0  \n",
       "4          Standard          Annual       788.94              12.0  "
      ]
     },
     "execution_count": 28,
     "metadata": {},
     "output_type": "execute_result"
    }
   ],
   "source": [
    "test_df.head()"
   ]
  },
  {
   "cell_type": "code",
   "execution_count": 29,
   "id": "c5e3f39f-f87a-4e03-96a8-5c6373874b0f",
   "metadata": {},
   "outputs": [
    {
     "data": {
      "text/html": [
       "<div>\n",
       "<style scoped>\n",
       "    .dataframe tbody tr th:only-of-type {\n",
       "        vertical-align: middle;\n",
       "    }\n",
       "\n",
       "    .dataframe tbody tr th {\n",
       "        vertical-align: top;\n",
       "    }\n",
       "\n",
       "    .dataframe thead th {\n",
       "        text-align: right;\n",
       "    }\n",
       "</style>\n",
       "<table border=\"1\" class=\"dataframe\">\n",
       "  <thead>\n",
       "    <tr style=\"text-align: right;\">\n",
       "      <th></th>\n",
       "      <th>Age</th>\n",
       "      <th>Gender</th>\n",
       "      <th>Tenure</th>\n",
       "      <th>Usage Frequency</th>\n",
       "      <th>Support Calls</th>\n",
       "      <th>Payment Delay</th>\n",
       "      <th>Subscription Type</th>\n",
       "      <th>Contract Length</th>\n",
       "      <th>Total Spend</th>\n",
       "      <th>Last Interaction</th>\n",
       "    </tr>\n",
       "  </thead>\n",
       "  <tbody>\n",
       "    <tr>\n",
       "      <th>101036</th>\n",
       "      <td>63.0</td>\n",
       "      <td>Male</td>\n",
       "      <td>6.0</td>\n",
       "      <td>16.0</td>\n",
       "      <td>0.0</td>\n",
       "      <td>26.0</td>\n",
       "      <td>Basic</td>\n",
       "      <td>Quarterly</td>\n",
       "      <td>210.00</td>\n",
       "      <td>7.0</td>\n",
       "    </tr>\n",
       "    <tr>\n",
       "      <th>101037</th>\n",
       "      <td>50.0</td>\n",
       "      <td>Female</td>\n",
       "      <td>22.0</td>\n",
       "      <td>15.0</td>\n",
       "      <td>8.0</td>\n",
       "      <td>15.0</td>\n",
       "      <td>Standard</td>\n",
       "      <td>Quarterly</td>\n",
       "      <td>369.00</td>\n",
       "      <td>2.0</td>\n",
       "    </tr>\n",
       "    <tr>\n",
       "      <th>101038</th>\n",
       "      <td>42.0</td>\n",
       "      <td>Male</td>\n",
       "      <td>49.0</td>\n",
       "      <td>5.0</td>\n",
       "      <td>1.0</td>\n",
       "      <td>18.0</td>\n",
       "      <td>Premium</td>\n",
       "      <td>Quarterly</td>\n",
       "      <td>738.23</td>\n",
       "      <td>24.0</td>\n",
       "    </tr>\n",
       "    <tr>\n",
       "      <th>101039</th>\n",
       "      <td>21.0</td>\n",
       "      <td>Male</td>\n",
       "      <td>30.0</td>\n",
       "      <td>14.0</td>\n",
       "      <td>5.0</td>\n",
       "      <td>25.0</td>\n",
       "      <td>Basic</td>\n",
       "      <td>Monthly</td>\n",
       "      <td>278.00</td>\n",
       "      <td>17.0</td>\n",
       "    </tr>\n",
       "    <tr>\n",
       "      <th>101040</th>\n",
       "      <td>31.0</td>\n",
       "      <td>Male</td>\n",
       "      <td>43.0</td>\n",
       "      <td>28.0</td>\n",
       "      <td>3.0</td>\n",
       "      <td>4.0</td>\n",
       "      <td>Standard</td>\n",
       "      <td>Quarterly</td>\n",
       "      <td>908.62</td>\n",
       "      <td>3.0</td>\n",
       "    </tr>\n",
       "  </tbody>\n",
       "</table>\n",
       "</div>"
      ],
      "text/plain": [
       "         Age  Gender  Tenure  Usage Frequency  Support Calls  Payment Delay  \\\n",
       "101036  63.0    Male     6.0             16.0            0.0           26.0   \n",
       "101037  50.0  Female    22.0             15.0            8.0           15.0   \n",
       "101038  42.0    Male    49.0              5.0            1.0           18.0   \n",
       "101039  21.0    Male    30.0             14.0            5.0           25.0   \n",
       "101040  31.0    Male    43.0             28.0            3.0            4.0   \n",
       "\n",
       "       Subscription Type Contract Length  Total Spend  Last Interaction  \n",
       "101036             Basic       Quarterly       210.00               7.0  \n",
       "101037          Standard       Quarterly       369.00               2.0  \n",
       "101038           Premium       Quarterly       738.23              24.0  \n",
       "101039             Basic         Monthly       278.00              17.0  \n",
       "101040          Standard       Quarterly       908.62               3.0  "
      ]
     },
     "execution_count": 29,
     "metadata": {},
     "output_type": "execute_result"
    }
   ],
   "source": [
    "test_df.tail()"
   ]
  },
  {
   "cell_type": "code",
   "execution_count": 30,
   "id": "6989cbed-c214-4139-a6e4-46cfa6285226",
   "metadata": {},
   "outputs": [
    {
     "name": "stdout",
     "output_type": "stream",
     "text": [
      "<class 'pandas.core.frame.DataFrame'>\n",
      "RangeIndex: 101041 entries, 0 to 101040\n",
      "Data columns (total 10 columns):\n",
      " #   Column             Non-Null Count   Dtype  \n",
      "---  ------             --------------   -----  \n",
      " 0   Age                101041 non-null  float64\n",
      " 1   Gender             101041 non-null  object \n",
      " 2   Tenure             101041 non-null  float64\n",
      " 3   Usage Frequency    101041 non-null  float64\n",
      " 4   Support Calls      101041 non-null  float64\n",
      " 5   Payment Delay      101041 non-null  float64\n",
      " 6   Subscription Type  101041 non-null  object \n",
      " 7   Contract Length    101041 non-null  object \n",
      " 8   Total Spend        101041 non-null  float64\n",
      " 9   Last Interaction   101041 non-null  float64\n",
      "dtypes: float64(7), object(3)\n",
      "memory usage: 7.7+ MB\n"
     ]
    }
   ],
   "source": [
    "test_df.info()"
   ]
  },
  {
   "cell_type": "code",
   "execution_count": 31,
   "id": "21f93fe0-4da2-478d-a843-3921ac7d741e",
   "metadata": {},
   "outputs": [
    {
     "data": {
      "text/plain": [
       "Age                  0\n",
       "Gender               0\n",
       "Tenure               0\n",
       "Usage Frequency      0\n",
       "Support Calls        0\n",
       "Payment Delay        0\n",
       "Subscription Type    0\n",
       "Contract Length      0\n",
       "Total Spend          0\n",
       "Last Interaction     0\n",
       "dtype: int64"
      ]
     },
     "execution_count": 31,
     "metadata": {},
     "output_type": "execute_result"
    }
   ],
   "source": [
    "test_df.isna().sum()"
   ]
  },
  {
   "cell_type": "code",
   "execution_count": 32,
   "id": "a4dd49db-7dcf-4b26-b08c-03076629fb2f",
   "metadata": {},
   "outputs": [
    {
     "data": {
      "text/plain": [
       "Age                  0\n",
       "Gender               0\n",
       "Tenure               0\n",
       "Usage Frequency      0\n",
       "Support Calls        0\n",
       "Payment Delay        0\n",
       "Subscription Type    0\n",
       "Contract Length      0\n",
       "Total Spend          0\n",
       "Last Interaction     0\n",
       "dtype: int64"
      ]
     },
     "execution_count": 32,
     "metadata": {},
     "output_type": "execute_result"
    }
   ],
   "source": [
    "test_df.isnull().sum()"
   ]
  },
  {
   "cell_type": "code",
   "execution_count": 33,
   "id": "b5d3a6d7-c9c6-4ac9-a3f6-af7b539c6676",
   "metadata": {},
   "outputs": [
    {
     "data": {
      "text/html": [
       "<div>\n",
       "<style scoped>\n",
       "    .dataframe tbody tr th:only-of-type {\n",
       "        vertical-align: middle;\n",
       "    }\n",
       "\n",
       "    .dataframe tbody tr th {\n",
       "        vertical-align: top;\n",
       "    }\n",
       "\n",
       "    .dataframe thead th {\n",
       "        text-align: right;\n",
       "    }\n",
       "</style>\n",
       "<table border=\"1\" class=\"dataframe\">\n",
       "  <thead>\n",
       "    <tr style=\"text-align: right;\">\n",
       "      <th></th>\n",
       "      <th>Age</th>\n",
       "      <th>Tenure</th>\n",
       "      <th>Usage Frequency</th>\n",
       "      <th>Support Calls</th>\n",
       "      <th>Payment Delay</th>\n",
       "      <th>Total Spend</th>\n",
       "      <th>Last Interaction</th>\n",
       "    </tr>\n",
       "  </thead>\n",
       "  <tbody>\n",
       "    <tr>\n",
       "      <th>count</th>\n",
       "      <td>101041.000000</td>\n",
       "      <td>101041.000000</td>\n",
       "      <td>101041.000000</td>\n",
       "      <td>101041.000000</td>\n",
       "      <td>101041.000000</td>\n",
       "      <td>101041.000000</td>\n",
       "      <td>101041.000000</td>\n",
       "    </tr>\n",
       "    <tr>\n",
       "      <th>mean</th>\n",
       "      <td>39.683307</td>\n",
       "      <td>31.365406</td>\n",
       "      <td>15.698222</td>\n",
       "      <td>3.843776</td>\n",
       "      <td>13.504983</td>\n",
       "      <td>619.250268</td>\n",
       "      <td>14.637345</td>\n",
       "    </tr>\n",
       "    <tr>\n",
       "      <th>std</th>\n",
       "      <td>12.628610</td>\n",
       "      <td>17.259791</td>\n",
       "      <td>8.627485</td>\n",
       "      <td>3.129526</td>\n",
       "      <td>8.442253</td>\n",
       "      <td>245.875979</td>\n",
       "      <td>8.604638</td>\n",
       "    </tr>\n",
       "    <tr>\n",
       "      <th>min</th>\n",
       "      <td>18.000000</td>\n",
       "      <td>1.000000</td>\n",
       "      <td>1.000000</td>\n",
       "      <td>0.000000</td>\n",
       "      <td>0.000000</td>\n",
       "      <td>100.000000</td>\n",
       "      <td>1.000000</td>\n",
       "    </tr>\n",
       "    <tr>\n",
       "      <th>25%</th>\n",
       "      <td>29.000000</td>\n",
       "      <td>16.000000</td>\n",
       "      <td>8.000000</td>\n",
       "      <td>1.000000</td>\n",
       "      <td>6.000000</td>\n",
       "      <td>444.000000</td>\n",
       "      <td>7.000000</td>\n",
       "    </tr>\n",
       "    <tr>\n",
       "      <th>50%</th>\n",
       "      <td>40.000000</td>\n",
       "      <td>32.000000</td>\n",
       "      <td>16.000000</td>\n",
       "      <td>3.000000</td>\n",
       "      <td>13.000000</td>\n",
       "      <td>648.000000</td>\n",
       "      <td>14.000000</td>\n",
       "    </tr>\n",
       "    <tr>\n",
       "      <th>75%</th>\n",
       "      <td>49.000000</td>\n",
       "      <td>46.000000</td>\n",
       "      <td>23.000000</td>\n",
       "      <td>6.000000</td>\n",
       "      <td>20.000000</td>\n",
       "      <td>823.960000</td>\n",
       "      <td>22.000000</td>\n",
       "    </tr>\n",
       "    <tr>\n",
       "      <th>max</th>\n",
       "      <td>65.000000</td>\n",
       "      <td>60.000000</td>\n",
       "      <td>30.000000</td>\n",
       "      <td>10.000000</td>\n",
       "      <td>30.000000</td>\n",
       "      <td>1000.000000</td>\n",
       "      <td>30.000000</td>\n",
       "    </tr>\n",
       "  </tbody>\n",
       "</table>\n",
       "</div>"
      ],
      "text/plain": [
       "                 Age         Tenure  Usage Frequency  Support Calls  \\\n",
       "count  101041.000000  101041.000000    101041.000000  101041.000000   \n",
       "mean       39.683307      31.365406        15.698222       3.843776   \n",
       "std        12.628610      17.259791         8.627485       3.129526   \n",
       "min        18.000000       1.000000         1.000000       0.000000   \n",
       "25%        29.000000      16.000000         8.000000       1.000000   \n",
       "50%        40.000000      32.000000        16.000000       3.000000   \n",
       "75%        49.000000      46.000000        23.000000       6.000000   \n",
       "max        65.000000      60.000000        30.000000      10.000000   \n",
       "\n",
       "       Payment Delay    Total Spend  Last Interaction  \n",
       "count  101041.000000  101041.000000     101041.000000  \n",
       "mean       13.504983     619.250268         14.637345  \n",
       "std         8.442253     245.875979          8.604638  \n",
       "min         0.000000     100.000000          1.000000  \n",
       "25%         6.000000     444.000000          7.000000  \n",
       "50%        13.000000     648.000000         14.000000  \n",
       "75%        20.000000     823.960000         22.000000  \n",
       "max        30.000000    1000.000000         30.000000  "
      ]
     },
     "execution_count": 33,
     "metadata": {},
     "output_type": "execute_result"
    }
   ],
   "source": [
    "test_df.describe()"
   ]
  },
  {
   "cell_type": "code",
   "execution_count": 34,
   "id": "61070c3e-b18c-4a66-b5b4-56e0d26be5d2",
   "metadata": {},
   "outputs": [
    {
     "data": {
      "text/plain": [
       "np.int64(0)"
      ]
     },
     "execution_count": 34,
     "metadata": {},
     "output_type": "execute_result"
    }
   ],
   "source": [
    "test_df.duplicated().sum()"
   ]
  },
  {
   "cell_type": "markdown",
   "id": "e13f7878-5b67-4559-ae6b-27e288f119a2",
   "metadata": {
    "jp-MarkdownHeadingCollapsed": true
   },
   "source": [
    "### univariate analysis"
   ]
  },
  {
   "cell_type": "code",
   "execution_count": 35,
   "id": "d7692158-6e56-4b94-a7a7-d05d3c81d276",
   "metadata": {},
   "outputs": [
    {
     "data": {
      "text/plain": [
       "Age                 0.148124\n",
       "Tenure             -0.070029\n",
       "Usage Frequency    -0.029435\n",
       "Support Calls       0.540557\n",
       "Payment Delay       0.199011\n",
       "Total Spend        -0.388391\n",
       "Last Interaction    0.153047\n",
       "dtype: float64"
      ]
     },
     "execution_count": 35,
     "metadata": {},
     "output_type": "execute_result"
    }
   ],
   "source": [
    "# checking skewness \n",
    "check_skewness(test_df)"
   ]
  },
  {
   "cell_type": "code",
   "execution_count": 36,
   "id": "c02f557d-aa20-4da2-ac15-072621b71504",
   "metadata": {},
   "outputs": [
    {
     "name": "stdout",
     "output_type": "stream",
     "text": [
      "\n",
      "feature:  Gender\n",
      "Gender\n",
      "Male      0.553676\n",
      "Female    0.446324\n",
      "Name: proportion, dtype: float64\n",
      "missing: 0\n",
      "Axes(0.125,0.11;0.775x0.77)\n"
     ]
    },
    {
     "data": {
      "image/png": "[encoded data removed]",
      "text/plain": [
       "<Figure size 640x480 with 1 Axes>"
      ]
     },
     "metadata": {},
     "output_type": "display_data"
    },
    {
     "name": "stdout",
     "output_type": "stream",
     "text": [
      "\n",
      "feature:  Subscription Type\n",
      "Subscription Type\n",
      "Standard    0.339278\n",
      "Premium     0.337546\n",
      "Basic       0.323176\n",
      "Name: proportion, dtype: float64\n",
      "missing: 0\n",
      "Axes(0.125,0.11;0.775x0.77)\n"
     ]
    },
    {
     "data": {
      "image/png": "[encoded data removed]",
      "text/plain": [
       "<Figure size 640x480 with 1 Axes>"
      ]
     },
     "metadata": {},
     "output_type": "display_data"
    },
    {
     "name": "stdout",
     "output_type": "stream",
     "text": [
      "\n",
      "feature:  Contract Length\n",
      "Contract Length\n",
      "Annual       0.392524\n",
      "Quarterly    0.390010\n",
      "Monthly      0.217466\n",
      "Name: proportion, dtype: float64\n",
      "missing: 0\n",
      "Axes(0.125,0.11;0.775x0.77)\n"
     ]
    },
    {
     "data": {
      "image/png": "[encoded data removed]",
      "text/plain": [
       "<Figure size 640x480 with 1 Axes>"
      ]
     },
     "metadata": {},
     "output_type": "display_data"
    }
   ],
   "source": [
    "# categorical analysis\n",
    "categorical_analysis(test_df)"
   ]
  },
  {
   "cell_type": "markdown",
   "id": "f21fe3a4-8bd2-40b0-89fc-4a38b54c0b33",
   "metadata": {},
   "source": [
    "**Checking outliers in test_df**"
   ]
  },
  {
   "cell_type": "code",
   "execution_count": 37,
   "id": "beef371b-e71c-4a7d-91b6-80dd540d744c",
   "metadata": {},
   "outputs": [
    {
     "data": {
      "text/plain": [
       "{'Age': {'num_outliers': 0},\n",
       " 'Tenure': {'num_outliers': 0},\n",
       " 'Usage Frequency': {'num_outliers': 0},\n",
       " 'Support Calls': {'num_outliers': 0},\n",
       " 'Payment Delay': {'num_outliers': 0},\n",
       " 'Total Spend': {'num_outliers': 0},\n",
       " 'Last Interaction': {'num_outliers': 0}}"
      ]
     },
     "execution_count": 37,
     "metadata": {},
     "output_type": "execute_result"
    }
   ],
   "source": [
    "detect_outliers_iqr(test_df)"
   ]
  },
  {
   "cell_type": "markdown",
   "id": "c19edbda-ece3-4de7-8182-0d0dc2b3da88",
   "metadata": {
    "jp-MarkdownHeadingCollapsed": true
   },
   "source": [
    "# Feature Engineering"
   ]
  },
  {
   "cell_type": "markdown",
   "id": "613b6bf4-fc32-424c-a97f-a95857100aeb",
   "metadata": {},
   "source": [
    "making a new feature by combining `subscription_type` and `contract_length` in train_df and test_df"
   ]
  },
  {
   "cell_type": "code",
   "execution_count": 38,
   "id": "9ab2a17b-2548-42c9-ac16-a23d33dcb1b7",
   "metadata": {},
   "outputs": [],
   "source": [
    "train_df[\"SubType_Contract\"] = train_df[\"Subscription Type\"] + \"_\" + train_df[\"Contract Length\"]\n",
    "test_df[\"SubType_Contract\"] = test_df[\"Subscription Type\"] + \"_\" + test_df[\"Contract Length\"]"
   ]
  },
  {
   "cell_type": "code",
   "execution_count": 39,
   "id": "876b346a-eaa3-405c-9d36-015910e6507e",
   "metadata": {},
   "outputs": [
    {
     "data": {
      "text/html": [
       "<div>\n",
       "<style scoped>\n",
       "    .dataframe tbody tr th:only-of-type {\n",
       "        vertical-align: middle;\n",
       "    }\n",
       "\n",
       "    .dataframe tbody tr th {\n",
       "        vertical-align: top;\n",
       "    }\n",
       "\n",
       "    .dataframe thead th {\n",
       "        text-align: right;\n",
       "    }\n",
       "</style>\n",
       "<table border=\"1\" class=\"dataframe\">\n",
       "  <thead>\n",
       "    <tr style=\"text-align: right;\">\n",
       "      <th></th>\n",
       "      <th>Age</th>\n",
       "      <th>Gender</th>\n",
       "      <th>Tenure</th>\n",
       "      <th>Usage Frequency</th>\n",
       "      <th>Support Calls</th>\n",
       "      <th>Payment Delay</th>\n",
       "      <th>Subscription Type</th>\n",
       "      <th>Contract Length</th>\n",
       "      <th>Total Spend</th>\n",
       "      <th>Last Interaction</th>\n",
       "      <th>target</th>\n",
       "      <th>SubType_Contract</th>\n",
       "    </tr>\n",
       "  </thead>\n",
       "  <tbody>\n",
       "    <tr>\n",
       "      <th>0</th>\n",
       "      <td>23.0</td>\n",
       "      <td>Male</td>\n",
       "      <td>44.0</td>\n",
       "      <td>18.0</td>\n",
       "      <td>0.0</td>\n",
       "      <td>19.0</td>\n",
       "      <td>Basic</td>\n",
       "      <td>Quarterly</td>\n",
       "      <td>846.18</td>\n",
       "      <td>18.0</td>\n",
       "      <td>0.0</td>\n",
       "      <td>Basic_Quarterly</td>\n",
       "    </tr>\n",
       "    <tr>\n",
       "      <th>1</th>\n",
       "      <td>19.0</td>\n",
       "      <td>Male</td>\n",
       "      <td>41.0</td>\n",
       "      <td>29.0</td>\n",
       "      <td>1.0</td>\n",
       "      <td>26.0</td>\n",
       "      <td>Basic</td>\n",
       "      <td>Annual</td>\n",
       "      <td>149.04</td>\n",
       "      <td>10.0</td>\n",
       "      <td>1.0</td>\n",
       "      <td>Basic_Annual</td>\n",
       "    </tr>\n",
       "    <tr>\n",
       "      <th>2</th>\n",
       "      <td>40.0</td>\n",
       "      <td>Male</td>\n",
       "      <td>48.0</td>\n",
       "      <td>11.0</td>\n",
       "      <td>3.0</td>\n",
       "      <td>19.0</td>\n",
       "      <td>Basic</td>\n",
       "      <td>Annual</td>\n",
       "      <td>266.00</td>\n",
       "      <td>9.0</td>\n",
       "      <td>1.0</td>\n",
       "      <td>Basic_Annual</td>\n",
       "    </tr>\n",
       "    <tr>\n",
       "      <th>3</th>\n",
       "      <td>44.0</td>\n",
       "      <td>Female</td>\n",
       "      <td>58.0</td>\n",
       "      <td>21.0</td>\n",
       "      <td>2.0</td>\n",
       "      <td>27.0</td>\n",
       "      <td>Standard</td>\n",
       "      <td>Quarterly</td>\n",
       "      <td>662.00</td>\n",
       "      <td>16.0</td>\n",
       "      <td>1.0</td>\n",
       "      <td>Standard_Quarterly</td>\n",
       "    </tr>\n",
       "    <tr>\n",
       "      <th>4</th>\n",
       "      <td>49.0</td>\n",
       "      <td>Male</td>\n",
       "      <td>24.0</td>\n",
       "      <td>29.0</td>\n",
       "      <td>9.0</td>\n",
       "      <td>9.0</td>\n",
       "      <td>Standard</td>\n",
       "      <td>Monthly</td>\n",
       "      <td>857.00</td>\n",
       "      <td>8.0</td>\n",
       "      <td>1.0</td>\n",
       "      <td>Standard_Monthly</td>\n",
       "    </tr>\n",
       "  </tbody>\n",
       "</table>\n",
       "</div>"
      ],
      "text/plain": [
       "    Age  Gender  Tenure  Usage Frequency  Support Calls  Payment Delay  \\\n",
       "0  23.0    Male    44.0             18.0            0.0           19.0   \n",
       "1  19.0    Male    41.0             29.0            1.0           26.0   \n",
       "2  40.0    Male    48.0             11.0            3.0           19.0   \n",
       "3  44.0  Female    58.0             21.0            2.0           27.0   \n",
       "4  49.0    Male    24.0             29.0            9.0            9.0   \n",
       "\n",
       "  Subscription Type Contract Length  Total Spend  Last Interaction  target  \\\n",
       "0             Basic       Quarterly       846.18              18.0     0.0   \n",
       "1             Basic          Annual       149.04              10.0     1.0   \n",
       "2             Basic          Annual       266.00               9.0     1.0   \n",
       "3          Standard       Quarterly       662.00              16.0     1.0   \n",
       "4          Standard         Monthly       857.00               8.0     1.0   \n",
       "\n",
       "     SubType_Contract  \n",
       "0     Basic_Quarterly  \n",
       "1        Basic_Annual  \n",
       "2        Basic_Annual  \n",
       "3  Standard_Quarterly  \n",
       "4    Standard_Monthly  "
      ]
     },
     "execution_count": 39,
     "metadata": {},
     "output_type": "execute_result"
    }
   ],
   "source": [
    "train_df.head()"
   ]
  },
  {
   "cell_type": "code",
   "execution_count": 40,
   "id": "a079afd0-da70-41ec-bebe-93bdfb8ab1f2",
   "metadata": {},
   "outputs": [
    {
     "data": {
      "text/html": [
       "<div>\n",
       "<style scoped>\n",
       "    .dataframe tbody tr th:only-of-type {\n",
       "        vertical-align: middle;\n",
       "    }\n",
       "\n",
       "    .dataframe tbody tr th {\n",
       "        vertical-align: top;\n",
       "    }\n",
       "\n",
       "    .dataframe thead th {\n",
       "        text-align: right;\n",
       "    }\n",
       "</style>\n",
       "<table border=\"1\" class=\"dataframe\">\n",
       "  <thead>\n",
       "    <tr style=\"text-align: right;\">\n",
       "      <th></th>\n",
       "      <th>Age</th>\n",
       "      <th>Gender</th>\n",
       "      <th>Tenure</th>\n",
       "      <th>Usage Frequency</th>\n",
       "      <th>Support Calls</th>\n",
       "      <th>Payment Delay</th>\n",
       "      <th>Subscription Type</th>\n",
       "      <th>Contract Length</th>\n",
       "      <th>Total Spend</th>\n",
       "      <th>Last Interaction</th>\n",
       "      <th>SubType_Contract</th>\n",
       "    </tr>\n",
       "  </thead>\n",
       "  <tbody>\n",
       "    <tr>\n",
       "      <th>0</th>\n",
       "      <td>47.0</td>\n",
       "      <td>Male</td>\n",
       "      <td>5.0</td>\n",
       "      <td>22.0</td>\n",
       "      <td>4.0</td>\n",
       "      <td>16.0</td>\n",
       "      <td>Basic</td>\n",
       "      <td>Quarterly</td>\n",
       "      <td>252.00</td>\n",
       "      <td>27.0</td>\n",
       "      <td>Basic_Quarterly</td>\n",
       "    </tr>\n",
       "    <tr>\n",
       "      <th>1</th>\n",
       "      <td>20.0</td>\n",
       "      <td>Male</td>\n",
       "      <td>25.0</td>\n",
       "      <td>18.0</td>\n",
       "      <td>4.0</td>\n",
       "      <td>18.0</td>\n",
       "      <td>Standard</td>\n",
       "      <td>Annual</td>\n",
       "      <td>742.00</td>\n",
       "      <td>8.0</td>\n",
       "      <td>Standard_Annual</td>\n",
       "    </tr>\n",
       "    <tr>\n",
       "      <th>2</th>\n",
       "      <td>21.0</td>\n",
       "      <td>Male</td>\n",
       "      <td>49.0</td>\n",
       "      <td>14.0</td>\n",
       "      <td>6.0</td>\n",
       "      <td>12.0</td>\n",
       "      <td>Premium</td>\n",
       "      <td>Annual</td>\n",
       "      <td>668.00</td>\n",
       "      <td>19.0</td>\n",
       "      <td>Premium_Annual</td>\n",
       "    </tr>\n",
       "    <tr>\n",
       "      <th>3</th>\n",
       "      <td>33.0</td>\n",
       "      <td>Female</td>\n",
       "      <td>17.0</td>\n",
       "      <td>26.0</td>\n",
       "      <td>4.0</td>\n",
       "      <td>24.0</td>\n",
       "      <td>Premium</td>\n",
       "      <td>Annual</td>\n",
       "      <td>459.00</td>\n",
       "      <td>12.0</td>\n",
       "      <td>Premium_Annual</td>\n",
       "    </tr>\n",
       "    <tr>\n",
       "      <th>4</th>\n",
       "      <td>46.0</td>\n",
       "      <td>Male</td>\n",
       "      <td>7.0</td>\n",
       "      <td>18.0</td>\n",
       "      <td>3.0</td>\n",
       "      <td>2.0</td>\n",
       "      <td>Standard</td>\n",
       "      <td>Annual</td>\n",
       "      <td>788.94</td>\n",
       "      <td>12.0</td>\n",
       "      <td>Standard_Annual</td>\n",
       "    </tr>\n",
       "  </tbody>\n",
       "</table>\n",
       "</div>"
      ],
      "text/plain": [
       "    Age  Gender  Tenure  Usage Frequency  Support Calls  Payment Delay  \\\n",
       "0  47.0    Male     5.0             22.0            4.0           16.0   \n",
       "1  20.0    Male    25.0             18.0            4.0           18.0   \n",
       "2  21.0    Male    49.0             14.0            6.0           12.0   \n",
       "3  33.0  Female    17.0             26.0            4.0           24.0   \n",
       "4  46.0    Male     7.0             18.0            3.0            2.0   \n",
       "\n",
       "  Subscription Type Contract Length  Total Spend  Last Interaction  \\\n",
       "0             Basic       Quarterly       252.00              27.0   \n",
       "1          Standard          Annual       742.00               8.0   \n",
       "2           Premium          Annual       668.00              19.0   \n",
       "3           Premium          Annual       459.00              12.0   \n",
       "4          Standard          Annual       788.94              12.0   \n",
       "\n",
       "  SubType_Contract  \n",
       "0  Basic_Quarterly  \n",
       "1  Standard_Annual  \n",
       "2   Premium_Annual  \n",
       "3   Premium_Annual  \n",
       "4  Standard_Annual  "
      ]
     },
     "execution_count": 40,
     "metadata": {},
     "output_type": "execute_result"
    }
   ],
   "source": [
    "test_df.head()"
   ]
  },
  {
   "cell_type": "code",
   "execution_count": 41,
   "id": "9486e37b-71e5-4320-8e3b-0e96f7de4846",
   "metadata": {},
   "outputs": [
    {
     "data": {
      "image/png": "[encoded data removed]",
      "text/plain": [
       "<Figure size 640x480 with 1 Axes>"
      ]
     },
     "metadata": {},
     "output_type": "display_data"
    }
   ],
   "source": [
    "train_df['SubType_Contract'].value_counts().plot(kind='bar')\n",
    "plt.show()"
   ]
  },
  {
   "cell_type": "markdown",
   "id": "f14b4364-d02c-4e3b-a5b8-7fd2235f7877",
   "metadata": {
    "jp-MarkdownHeadingCollapsed": true
   },
   "source": [
    "# Data Transformation"
   ]
  },
  {
   "cell_type": "code",
   "execution_count": 42,
   "id": "900b2246-62d7-4a3a-b1eb-21ec4903e8f5",
   "metadata": {},
   "outputs": [],
   "source": [
    "# Spliting train_df into X and Y\n",
    "X = train_df.drop('target', axis=1)\n",
    "Y = train_df['target']\n",
    "\n",
    "# split X and Y into training and validation set data with train_test_split method\n",
    "x_train, x_val, y_train, y_val = train_test_split(X, Y, test_size=0.25, random_state=42, stratify=Y)\n",
    "\n",
    "# renaming 'test_df' to 'x_test'\n",
    "x_test = test_df"
   ]
  },
  {
   "cell_type": "code",
   "execution_count": 43,
   "id": "cb33d834-aeb4-4cba-830a-15dee79ad9f8",
   "metadata": {},
   "outputs": [
    {
     "data": {
      "text/plain": [
       "((303123, 11), (303123,), (101042, 11), (101042,), (101041, 11))"
      ]
     },
     "execution_count": 43,
     "metadata": {},
     "output_type": "execute_result"
    }
   ],
   "source": [
    "# checking shape\n",
    "x_train.shape, y_train.shape , x_val.shape, y_val.shape, x_test.shape"
   ]
  },
  {
   "cell_type": "code",
   "execution_count": 44,
   "id": "e1fcf198-3f78-46b0-9d6f-ede3a77bc3c7",
   "metadata": {},
   "outputs": [
    {
     "data": {
      "text/plain": [
       "Index(['Gender', 'Subscription Type', 'Contract Length', 'SubType_Contract'], dtype='object')"
      ]
     },
     "execution_count": 44,
     "metadata": {},
     "output_type": "execute_result"
    }
   ],
   "source": [
    "# checking categorical column \n",
    "train_cat_col = train_df.select_dtypes(['object']).columns \n",
    "train_cat_col"
   ]
  },
  {
   "cell_type": "code",
   "execution_count": 45,
   "id": "11d41361-bc2a-42f3-91d0-15226277c63c",
   "metadata": {},
   "outputs": [],
   "source": [
    "# categorical feature to numeric\n",
    "# create an empty list on encoders.\n",
    "encoders = {}\n",
    "\n",
    "# looping through each column and label encoding it.\n",
    "for col in train_cat_col:\n",
    "    label_encoder = LabelEncoder()\n",
    "    x_train[col] = label_encoder.fit_transform(x_train[col])\n",
    "    x_val[col] = label_encoder.transform(x_val[col])\n",
    "    x_test[col] = label_encoder.transform(x_test[col])\n",
    "    encoders[col] = label_encoder\n",
    "    \n",
    "# saving the encoders to a pickle file\n",
    "with open('encoders.pkl', 'wb') as f:\n",
    "    pickle.dump(encoders, f)"
   ]
  },
  {
   "cell_type": "code",
   "execution_count": 46,
   "id": "622e8695-19fd-4cf3-a159-280ee65ec5a5",
   "metadata": {},
   "outputs": [
    {
     "data": {
      "text/plain": [
       "130119    0\n",
       "390295    1\n",
       "142487    1\n",
       "254810    1\n",
       "91536     1\n",
       "Name: Gender, dtype: int64"
      ]
     },
     "execution_count": 46,
     "metadata": {},
     "output_type": "execute_result"
    }
   ],
   "source": [
    "x_train['Gender'].head()"
   ]
  },
  {
   "cell_type": "code",
   "execution_count": 47,
   "id": "22622ee7-7a7b-426b-a9e4-9d74fc1ac922",
   "metadata": {},
   "outputs": [
    {
     "data": {
      "text/plain": [
       "42314     0\n",
       "138761    0\n",
       "228243    0\n",
       "373233    1\n",
       "132804    1\n",
       "Name: Gender, dtype: int64"
      ]
     },
     "execution_count": 47,
     "metadata": {},
     "output_type": "execute_result"
    }
   ],
   "source": [
    "x_val['Gender'].head()"
   ]
  },
  {
   "cell_type": "code",
   "execution_count": 48,
   "id": "86b48f98-a70d-4dd7-875b-609566cc7616",
   "metadata": {},
   "outputs": [
    {
     "data": {
      "text/plain": [
       "0    1\n",
       "1    1\n",
       "2    1\n",
       "3    0\n",
       "4    1\n",
       "Name: Gender, dtype: int64"
      ]
     },
     "execution_count": 48,
     "metadata": {},
     "output_type": "execute_result"
    }
   ],
   "source": [
    "x_test['Gender'].head()"
   ]
  },
  {
   "cell_type": "code",
   "execution_count": 49,
   "id": "009d168f-b613-49d4-89d2-c25403702608",
   "metadata": {},
   "outputs": [],
   "source": [
    "# loading encoders\n",
    "with open('encoders.pkl', 'rb') as f:\n",
    "    encoders = pickle.load(f)"
   ]
  },
  {
   "cell_type": "code",
   "execution_count": 50,
   "id": "0057d491-c35b-4798-b630-c08c55e3e5fd",
   "metadata": {},
   "outputs": [
    {
     "data": {
      "text/plain": [
       "{'Gender': LabelEncoder(),\n",
       " 'Subscription Type': LabelEncoder(),\n",
       " 'Contract Length': LabelEncoder(),\n",
       " 'SubType_Contract': LabelEncoder()}"
      ]
     },
     "execution_count": 50,
     "metadata": {},
     "output_type": "execute_result"
    }
   ],
   "source": [
    "encoders"
   ]
  },
  {
   "cell_type": "markdown",
   "id": "60c1a223-ecb0-47ff-a879-f5f1c33caf90",
   "metadata": {
    "jp-MarkdownHeadingCollapsed": true
   },
   "source": [
    "# Modeling"
   ]
  },
  {
   "cell_type": "code",
   "execution_count": 51,
   "id": "55b04c1b-aae4-4bf6-973f-93e98bfc2e24",
   "metadata": {},
   "outputs": [],
   "source": [
    "# making a dictionary of models\n",
    "models = {'rf_classifier' : RandomForestClassifier(random_state=42),\n",
    "          'xgb': XGBClassifier(random_state=42)}\n",
    "\n",
    "# Making a function named train_model\n",
    "def train_and_evaluate(models, x_train, y_train, x_val, y_val):\n",
    "    models_score = {} \n",
    "    for name, model in models.items(): # iterating over models dictionary\n",
    "        model.fit(x_train, y_train)  # fitting each model to the data\n",
    "        test_score = model.score(x_val, y_val) # Evaluating on the test set\n",
    "        models_score[name] = test_score\n",
    "\n",
    "    return models_score"
   ]
  },
  {
   "cell_type": "code",
   "execution_count": 52,
   "id": "07afdcf4-b1cd-49a8-adaf-c84025b91b76",
   "metadata": {},
   "outputs": [
    {
     "data": {
      "text/plain": [
       "{'rf_classifier': 0.9356802121889907, 'xgb': 0.9334336216622791}"
      ]
     },
     "execution_count": 52,
     "metadata": {},
     "output_type": "execute_result"
    }
   ],
   "source": [
    "# setting random seed\n",
    "random_state = 42\n",
    "\n",
    "# Using our function\n",
    "model_scores = train_and_evaluate(models, x_train, y_train, x_val, y_val)\n",
    "model_scores"
   ]
  },
  {
   "cell_type": "code",
   "execution_count": 53,
   "id": "ac32b11b-6a8c-4e86-a31e-cce2bbb1cdba",
   "metadata": {},
   "outputs": [
    {
     "data": {
      "image/png": "[encoded data removed]",
      "text/plain": [
       "<Figure size 640x480 with 1 Axes>"
      ]
     },
     "metadata": {},
     "output_type": "display_data"
    }
   ],
   "source": [
    "model_compare = pd.DataFrame(model_scores, index=['accuracy'])\n",
    "model_compare.T.plot.bar()\n",
    "plt.show()"
   ]
  },
  {
   "cell_type": "markdown",
   "id": "6fcd3b14-4a82-441a-8ba7-fcfa89555783",
   "metadata": {
    "jp-MarkdownHeadingCollapsed": true
   },
   "source": [
    "# Hyperparameter tuning"
   ]
  },
  {
   "cell_type": "markdown",
   "id": "56206963-90e5-4659-a931-94316b0c136d",
   "metadata": {
    "jp-MarkdownHeadingCollapsed": true
   },
   "source": [
    "#### Finding best parameter for RandomForest on sample training data"
   ]
  },
  {
   "cell_type": "code",
   "execution_count": 54,
   "id": "e39b214c-31f1-4218-b293-1d5841f4c507",
   "metadata": {},
   "outputs": [
    {
     "data": {
      "text/plain": [
       "((30312, 11), (30312,))"
      ]
     },
     "execution_count": 54,
     "metadata": {},
     "output_type": "execute_result"
    }
   ],
   "source": [
    "# sampling our train_data\n",
    "x_sample = x_train.sample(frac=0.1, random_state=42)\n",
    "y_sample = y_train.loc[x_sample.index]\n",
    "x_sample.shape, y_sample.shape"
   ]
  },
  {
   "cell_type": "code",
   "execution_count": 55,
   "id": "16c46038-a45c-4bbb-a653-63d14df21b44",
   "metadata": {},
   "outputs": [
    {
     "name": "stdout",
     "output_type": "stream",
     "text": [
      "Fitting 5 folds for each of 50 candidates, totalling 250 fits\n",
      "Best parameters: {'n_estimators': 300, 'min_samples_split': 10, 'min_samples_leaf': 2, 'max_features': 'sqrt', 'max_depth': 20, 'bootstrap': False}\n",
      "Best logloss: 0.20020813828679737\n"
     ]
    }
   ],
   "source": [
    "# tuning parameters for RandomForest through RandomizedSearchCV\n",
    "# setting parameter grid\n",
    "rs_grid = {\n",
    "    \"n_estimators\": [100, 200, 300, 400, 500],       \n",
    "    \"max_depth\": [None, 10, 20, 30],                  \n",
    "    \"min_samples_split\": [2, 5, 10],                 \n",
    "    \"min_samples_leaf\": [1, 2, 4],                    \n",
    "    \"max_features\": [\"sqrt\", \"log2\", None],          \n",
    "    \"bootstrap\": [True, False]                     \n",
    "}\n",
    "\n",
    "\n",
    "# Initializing model\n",
    "rf_classifier = RandomForestClassifier(random_state=42)\n",
    "\n",
    "# Setting RandomSearchCv\n",
    "rs_rf = RandomizedSearchCV(rf_classifier, \n",
    "                           param_distributions=rs_grid,\n",
    "                           n_iter=50,\n",
    "                           cv=5,\n",
    "                           scoring='neg_log_loss',\n",
    "                           n_jobs=-1,\n",
    "                           verbose=True,\n",
    "                           random_state=42)\n",
    "\n",
    "# fitting the model\n",
    "rs_rf.fit(x_sample, y_sample)\n",
    "print(\"Best parameters:\", rs_rf.best_params_)\n",
    "print(\"Best logloss:\", -rs_rf.best_score_)  # negate back to get actual logloss"
   ]
  },
  {
   "cell_type": "code",
   "execution_count": 58,
   "id": "228d79cd-69a3-40f8-9da6-ce288f3f1681",
   "metadata": {},
   "outputs": [
    {
     "name": "stdout",
     "output_type": "stream",
     "text": [
      "Fitting 5 folds for each of 9 candidates, totalling 45 fits\n",
      "Best parameters: {'bootstrap': False, 'max_depth': 20, 'max_features': 'sqrt', 'min_samples_leaf': 2, 'min_samples_split': 10, 'n_estimators': np.int64(300)}\n",
      "Best logloss: 0.20020813828679737\n"
     ]
    }
   ],
   "source": [
    "# tuning parameters for RandomForest through GridSearchCV\n",
    "# setting parameter grid\n",
    "gs_grid = {\n",
    "    \"n_estimators\": np.arange(200, 400, 50),       \n",
    "    \"max_depth\": [15, 20, 25],                  \n",
    "    \"min_samples_split\": [10],                 \n",
    "    \"min_samples_leaf\": [2],                    \n",
    "    \"max_features\": [\"sqrt\"],          \n",
    "    \"bootstrap\": [True, False]                     \n",
    "}\n",
    "\n",
    "\n",
    "# Initializing model\n",
    "rf_classifier = RandomForestClassifier(random_state=42)\n",
    "\n",
    "# Setting GridSearchCV\n",
    "gs_rf = GridSearchCV(rf_classifier, \n",
    "                     param_grid=gs_grid,\n",
    "                     cv=5,\n",
    "                     scoring='neg_log_loss',\n",
    "                     n_jobs=-1,\n",
    "                     verbose=True)\n",
    "\n",
    "# fitting the model\n",
    "gs_rf.fit(x_sample, y_sample)\n",
    "print(\"Best parameters:\", gs_rf.best_params_)\n",
    "print(\"Best logloss:\", -gs_rf.best_score_) \n",
    "best_rf_model = gs_rf.best_estimator_"
   ]
  },
  {
   "cell_type": "code",
   "execution_count": 65,
   "id": "4c0827ff-63bf-4ee5-b078-de0348e9fd79",
   "metadata": {},
   "outputs": [
    {
     "name": "stdout",
     "output_type": "stream",
     "text": [
      "Fitting 5 folds for each of 32 candidates, totalling 160 fits\n",
      "Best parameters: {'bootstrap': False, 'max_depth': 20, 'max_features': 'sqrt', 'min_samples_leaf': 2, 'min_samples_split': 10, 'n_estimators': 550}\n",
      "Best logloss: 0.20004800129922437\n"
     ]
    }
   ],
   "source": [
    "# tuning parameters for RandomForest through GridSearchCV\n",
    "# setting parameter grid\n",
    "gs_grid = {\n",
    "    \"n_estimators\": [300, 450, 500, 550],      \n",
    "    \"max_depth\": [20, 30],                  \n",
    "    \"min_samples_split\": [2, 10],                 \n",
    "    \"min_samples_leaf\": [2],                    \n",
    "    \"max_features\": [\"sqrt\"],          \n",
    "    \"bootstrap\": [False, True]                     \n",
    "}\n",
    "\n",
    "\n",
    "# Initializing model\n",
    "rf_classifier = RandomForestClassifier(random_state=42)\n",
    "\n",
    "# Setting GridSearchCV\n",
    "gs_rf = GridSearchCV(rf_classifier, \n",
    "                     param_grid=gs_grid,\n",
    "                     cv=5,\n",
    "                     scoring='neg_log_loss',\n",
    "                     n_jobs=-1,\n",
    "                     verbose=True)\n",
    "\n",
    "# fitting the model\n",
    "gs_rf.fit(x_sample, y_sample)\n",
    "print(\"Best parameters:\", gs_rf.best_params_)\n",
    "print(\"Best logloss:\", -gs_rf.best_score_) \n",
    "best_rf_model = gs_rf.best_estimator_"
   ]
  },
  {
   "cell_type": "code",
   "execution_count": 66,
   "id": "8435153e-ae17-474f-bd1b-43bcde91f6f9",
   "metadata": {},
   "outputs": [
    {
     "name": "stdout",
     "output_type": "stream",
     "text": [
      "Fitting 5 folds for each of 24 candidates, totalling 120 fits\n",
      "Best parameters: {'bootstrap': False, 'max_depth': 20, 'max_features': 'sqrt', 'min_samples_leaf': 2, 'min_samples_split': 10, 'n_estimators': 650}\n",
      "Best logloss: 0.199956013700652\n"
     ]
    }
   ],
   "source": [
    "# tuning parameters for RandomForest through GridSearchCV\n",
    "# setting parameter grid\n",
    "gs_grid = {\n",
    "    \"n_estimators\": [550, 600, 650],      \n",
    "    \"max_depth\": [20, 30],                  \n",
    "    \"min_samples_split\": [2, 10],                 \n",
    "    \"min_samples_leaf\": [2],                    \n",
    "    \"max_features\": [\"sqrt\"],          \n",
    "    \"bootstrap\": [False, True]                     \n",
    "}\n",
    "\n",
    "\n",
    "# Initializing model\n",
    "rf_classifier = RandomForestClassifier(random_state=42)\n",
    "\n",
    "# Setting GridSearchCV\n",
    "gs_rf = GridSearchCV(rf_classifier, \n",
    "                     param_grid=gs_grid,\n",
    "                     cv=5,\n",
    "                     scoring='neg_log_loss',\n",
    "                     n_jobs=-1,\n",
    "                     verbose=True)\n",
    "\n",
    "# fitting the model\n",
    "gs_rf.fit(x_sample, y_sample)\n",
    "print(\"Best parameters:\", gs_rf.best_params_)\n",
    "print(\"Best logloss:\", -gs_rf.best_score_) \n",
    "best_rf_model = gs_rf.best_estimator_"
   ]
  },
  {
   "cell_type": "markdown",
   "id": "a75dfc2c-5a03-48b4-88ca-b22987a0b3b2",
   "metadata": {
    "jp-MarkdownHeadingCollapsed": true
   },
   "source": [
    "##### Finding elbow points for RandomForest\n",
    "with the above experiments, all the params remain same except for the n_estimators. "
   ]
  },
  {
   "cell_type": "code",
   "execution_count": 61,
   "id": "9a040445-45c6-47c8-ab01-abd6ff74b83e",
   "metadata": {},
   "outputs": [
    {
     "name": "stdout",
     "output_type": "stream",
     "text": [
      "500 trees → 0.186996\n",
      "650 trees → 0.186968\n",
      "Elbow found at 650 trees\n"
     ]
    }
   ],
   "source": [
    "# fixing other parameters except n_estimators\n",
    "fixed = {\n",
    "    \"bootstrap\": False,                \n",
    "    \"max_depth\": 20,\n",
    "    \"max_features\": \"sqrt\",\n",
    "    \"min_samples_leaf\": 2,\n",
    "    \"min_samples_split\": 10,\n",
    "    \"random_state\": 42,\n",
    "    \"n_jobs\": -1,\n",
    "    \"warm_start\": True                \n",
    "}\n",
    "\n",
    "# Initializing our tree model\n",
    "rf = RandomForestClassifier(**fixed)\n",
    "\n",
    "# creating an empty list for storing loss value\n",
    "loss_curve = []\n",
    "\n",
    "# setting previous loss to None\n",
    "prev_loss = None\n",
    "\n",
    "# looping through n_estimators\n",
    "for n in [500, 650, 700, 750, 800]:\n",
    "    rf.set_params(n_estimators=n).fit(x_train, y_train)\n",
    "    proba = rf.predict_proba(x_val)[:, 1]\n",
    "    l_loss = log_loss(y_val, np.clip(proba, 1e-15, 1-1e-15))\n",
    "    loss_curve.append((n, l_loss))\n",
    "    print(f\"{n} trees → {l_loss:.6f}\")\n",
    "    \n",
    "    if prev_loss is not None and prev_loss - l_loss < 1e-4:\n",
    "        print(f\"Elbow found at {n} trees\")\n",
    "        break\n",
    "    prev_loss = l_loss"
   ]
  },
  {
   "cell_type": "code",
   "execution_count": 55,
   "id": "6dda4ae2-0ab5-430d-824a-f0675ab74d33",
   "metadata": {},
   "outputs": [
    {
     "name": "stdout",
     "output_type": "stream",
     "text": [
      "rf_logloss on full data: 0.18696773717518722\n",
      "\n",
      "\n"
     ]
    },
    {
     "data": {
      "text/html": [
       "<style>#sk-container-id-1 {\n",
       "  /* Definition of color scheme common for light and dark mode */\n",
       "  --sklearn-color-text: #000;\n",
       "  --sklearn-color-text-muted: #666;\n",
       "  --sklearn-color-line: gray;\n",
       "  /* Definition of color scheme for unfitted estimators */\n",
       "  --sklearn-color-unfitted-level-0: #fff5e6;\n",
       "  --sklearn-color-unfitted-level-1: #f6e4d2;\n",
       "  --sklearn-color-unfitted-level-2: #ffe0b3;\n",
       "  --sklearn-color-unfitted-level-3: chocolate;\n",
       "  /* Definition of color scheme for fitted estimators */\n",
       "  --sklearn-color-fitted-level-0: #f0f8ff;\n",
       "  --sklearn-color-fitted-level-1: #d4ebff;\n",
       "  --sklearn-color-fitted-level-2: #b3dbfd;\n",
       "  --sklearn-color-fitted-level-3: cornflowerblue;\n",
       "\n",
       "  /* Specific color for light theme */\n",
       "  --sklearn-color-text-on-default-background: var(--sg-text-color, var(--theme-code-foreground, var(--jp-content-font-color1, black)));\n",
       "  --sklearn-color-background: var(--sg-background-color, var(--theme-background, var(--jp-layout-color0, white)));\n",
       "  --sklearn-color-border-box: var(--sg-text-color, var(--theme-code-foreground, var(--jp-content-font-color1, black)));\n",
       "  --sklearn-color-icon: #696969;\n",
       "\n",
       "  @media (prefers-color-scheme: dark) {\n",
       "    /* Redefinition of color scheme for dark theme */\n",
       "    --sklearn-color-text-on-default-background: var(--sg-text-color, var(--theme-code-foreground, var(--jp-content-font-color1, white)));\n",
       "    --sklearn-color-background: var(--sg-background-color, var(--theme-background, var(--jp-layout-color0, #111)));\n",
       "    --sklearn-color-border-box: var(--sg-text-color, var(--theme-code-foreground, var(--jp-content-font-color1, white)));\n",
       "    --sklearn-color-icon: #878787;\n",
       "  }\n",
       "}\n",
       "\n",
       "#sk-container-id-1 {\n",
       "  color: var(--sklearn-color-text);\n",
       "}\n",
       "\n",
       "#sk-container-id-1 pre {\n",
       "  padding: 0;\n",
       "}\n",
       "\n",
       "#sk-container-id-1 input.sk-hidden--visually {\n",
       "  border: 0;\n",
       "  clip: rect(1px 1px 1px 1px);\n",
       "  clip: rect(1px, 1px, 1px, 1px);\n",
       "  height: 1px;\n",
       "  margin: -1px;\n",
       "  overflow: hidden;\n",
       "  padding: 0;\n",
       "  position: absolute;\n",
       "  width: 1px;\n",
       "}\n",
       "\n",
       "#sk-container-id-1 div.sk-dashed-wrapped {\n",
       "  border: 1px dashed var(--sklearn-color-line);\n",
       "  margin: 0 0.4em 0.5em 0.4em;\n",
       "  box-sizing: border-box;\n",
       "  padding-bottom: 0.4em;\n",
       "  background-color: var(--sklearn-color-background);\n",
       "}\n",
       "\n",
       "#sk-container-id-1 div.sk-container {\n",
       "  /* jupyter's `normalize.less` sets `[hidden] { display: none; }`\n",
       "     but bootstrap.min.css set `[hidden] { display: none !important; }`\n",
       "     so we also need the `!important` here to be able to override the\n",
       "     default hidden behavior on the sphinx rendered scikit-learn.org.\n",
       "     See: https://github.com/scikit-learn/scikit-learn/issues/21755 */\n",
       "  display: inline-block !important;\n",
       "  position: relative;\n",
       "}\n",
       "\n",
       "#sk-container-id-1 div.sk-text-repr-fallback {\n",
       "  display: none;\n",
       "}\n",
       "\n",
       "div.sk-parallel-item,\n",
       "div.sk-serial,\n",
       "div.sk-item {\n",
       "  /* draw centered vertical line to link estimators */\n",
       "  background-image: linear-gradient(var(--sklearn-color-text-on-default-background), var(--sklearn-color-text-on-default-background));\n",
       "  background-size: 2px 100%;\n",
       "  background-repeat: no-repeat;\n",
       "  background-position: center center;\n",
       "}\n",
       "\n",
       "/* Parallel-specific style estimator block */\n",
       "\n",
       "#sk-container-id-1 div.sk-parallel-item::after {\n",
       "  content: \"\";\n",
       "  width: 100%;\n",
       "  border-bottom: 2px solid var(--sklearn-color-text-on-default-background);\n",
       "  flex-grow: 1;\n",
       "}\n",
       "\n",
       "#sk-container-id-1 div.sk-parallel {\n",
       "  display: flex;\n",
       "  align-items: stretch;\n",
       "  justify-content: center;\n",
       "  background-color: var(--sklearn-color-background);\n",
       "  position: relative;\n",
       "}\n",
       "\n",
       "#sk-container-id-1 div.sk-parallel-item {\n",
       "  display: flex;\n",
       "  flex-direction: column;\n",
       "}\n",
       "\n",
       "#sk-container-id-1 div.sk-parallel-item:first-child::after {\n",
       "  align-self: flex-end;\n",
       "  width: 50%;\n",
       "}\n",
       "\n",
       "#sk-container-id-1 div.sk-parallel-item:last-child::after {\n",
       "  align-self: flex-start;\n",
       "  width: 50%;\n",
       "}\n",
       "\n",
       "#sk-container-id-1 div.sk-parallel-item:only-child::after {\n",
       "  width: 0;\n",
       "}\n",
       "\n",
       "/* Serial-specific style estimator block */\n",
       "\n",
       "#sk-container-id-1 div.sk-serial {\n",
       "  display: flex;\n",
       "  flex-direction: column;\n",
       "  align-items: center;\n",
       "  background-color: var(--sklearn-color-background);\n",
       "  padding-right: 1em;\n",
       "  padding-left: 1em;\n",
       "}\n",
       "\n",
       "\n",
       "/* Toggleable style: style used for estimator/Pipeline/ColumnTransformer box that is\n",
       "clickable and can be expanded/collapsed.\n",
       "- Pipeline and ColumnTransformer use this feature and define the default style\n",
       "- Estimators will overwrite some part of the style using the `sk-estimator` class\n",
       "*/\n",
       "\n",
       "/* Pipeline and ColumnTransformer style (default) */\n",
       "\n",
       "#sk-container-id-1 div.sk-toggleable {\n",
       "  /* Default theme specific background. It is overwritten whether we have a\n",
       "  specific estimator or a Pipeline/ColumnTransformer */\n",
       "  background-color: var(--sklearn-color-background);\n",
       "}\n",
       "\n",
       "/* Toggleable label */\n",
       "#sk-container-id-1 label.sk-toggleable__label {\n",
       "  cursor: pointer;\n",
       "  display: flex;\n",
       "  width: 100%;\n",
       "  margin-bottom: 0;\n",
       "  padding: 0.5em;\n",
       "  box-sizing: border-box;\n",
       "  text-align: center;\n",
       "  align-items: start;\n",
       "  justify-content: space-between;\n",
       "  gap: 0.5em;\n",
       "}\n",
       "\n",
       "#sk-container-id-1 label.sk-toggleable__label .caption {\n",
       "  font-size: 0.6rem;\n",
       "  font-weight: lighter;\n",
       "  color: var(--sklearn-color-text-muted);\n",
       "}\n",
       "\n",
       "#sk-container-id-1 label.sk-toggleable__label-arrow:before {\n",
       "  /* Arrow on the left of the label */\n",
       "  content: \"▸\";\n",
       "  float: left;\n",
       "  margin-right: 0.25em;\n",
       "  color: var(--sklearn-color-icon);\n",
       "}\n",
       "\n",
       "#sk-container-id-1 label.sk-toggleable__label-arrow:hover:before {\n",
       "  color: var(--sklearn-color-text);\n",
       "}\n",
       "\n",
       "/* Toggleable content - dropdown */\n",
       "\n",
       "#sk-container-id-1 div.sk-toggleable__content {\n",
       "  max-height: 0;\n",
       "  max-width: 0;\n",
       "  overflow: hidden;\n",
       "  text-align: left;\n",
       "  /* unfitted */\n",
       "  background-color: var(--sklearn-color-unfitted-level-0);\n",
       "}\n",
       "\n",
       "#sk-container-id-1 div.sk-toggleable__content.fitted {\n",
       "  /* fitted */\n",
       "  background-color: var(--sklearn-color-fitted-level-0);\n",
       "}\n",
       "\n",
       "#sk-container-id-1 div.sk-toggleable__content pre {\n",
       "  margin: 0.2em;\n",
       "  border-radius: 0.25em;\n",
       "  color: var(--sklearn-color-text);\n",
       "  /* unfitted */\n",
       "  background-color: var(--sklearn-color-unfitted-level-0);\n",
       "}\n",
       "\n",
       "#sk-container-id-1 div.sk-toggleable__content.fitted pre {\n",
       "  /* unfitted */\n",
       "  background-color: var(--sklearn-color-fitted-level-0);\n",
       "}\n",
       "\n",
       "#sk-container-id-1 input.sk-toggleable__control:checked~div.sk-toggleable__content {\n",
       "  /* Expand drop-down */\n",
       "  max-height: 200px;\n",
       "  max-width: 100%;\n",
       "  overflow: auto;\n",
       "}\n",
       "\n",
       "#sk-container-id-1 input.sk-toggleable__control:checked~label.sk-toggleable__label-arrow:before {\n",
       "  content: \"▾\";\n",
       "}\n",
       "\n",
       "/* Pipeline/ColumnTransformer-specific style */\n",
       "\n",
       "#sk-container-id-1 div.sk-label input.sk-toggleable__control:checked~label.sk-toggleable__label {\n",
       "  color: var(--sklearn-color-text);\n",
       "  background-color: var(--sklearn-color-unfitted-level-2);\n",
       "}\n",
       "\n",
       "#sk-container-id-1 div.sk-label.fitted input.sk-toggleable__control:checked~label.sk-toggleable__label {\n",
       "  background-color: var(--sklearn-color-fitted-level-2);\n",
       "}\n",
       "\n",
       "/* Estimator-specific style */\n",
       "\n",
       "/* Colorize estimator box */\n",
       "#sk-container-id-1 div.sk-estimator input.sk-toggleable__control:checked~label.sk-toggleable__label {\n",
       "  /* unfitted */\n",
       "  background-color: var(--sklearn-color-unfitted-level-2);\n",
       "}\n",
       "\n",
       "#sk-container-id-1 div.sk-estimator.fitted input.sk-toggleable__control:checked~label.sk-toggleable__label {\n",
       "  /* fitted */\n",
       "  background-color: var(--sklearn-color-fitted-level-2);\n",
       "}\n",
       "\n",
       "#sk-container-id-1 div.sk-label label.sk-toggleable__label,\n",
       "#sk-container-id-1 div.sk-label label {\n",
       "  /* The background is the default theme color */\n",
       "  color: var(--sklearn-color-text-on-default-background);\n",
       "}\n",
       "\n",
       "/* On hover, darken the color of the background */\n",
       "#sk-container-id-1 div.sk-label:hover label.sk-toggleable__label {\n",
       "  color: var(--sklearn-color-text);\n",
       "  background-color: var(--sklearn-color-unfitted-level-2);\n",
       "}\n",
       "\n",
       "/* Label box, darken color on hover, fitted */\n",
       "#sk-container-id-1 div.sk-label.fitted:hover label.sk-toggleable__label.fitted {\n",
       "  color: var(--sklearn-color-text);\n",
       "  background-color: var(--sklearn-color-fitted-level-2);\n",
       "}\n",
       "\n",
       "/* Estimator label */\n",
       "\n",
       "#sk-container-id-1 div.sk-label label {\n",
       "  font-family: monospace;\n",
       "  font-weight: bold;\n",
       "  display: inline-block;\n",
       "  line-height: 1.2em;\n",
       "}\n",
       "\n",
       "#sk-container-id-1 div.sk-label-container {\n",
       "  text-align: center;\n",
       "}\n",
       "\n",
       "/* Estimator-specific */\n",
       "#sk-container-id-1 div.sk-estimator {\n",
       "  font-family: monospace;\n",
       "  border: 1px dotted var(--sklearn-color-border-box);\n",
       "  border-radius: 0.25em;\n",
       "  box-sizing: border-box;\n",
       "  margin-bottom: 0.5em;\n",
       "  /* unfitted */\n",
       "  background-color: var(--sklearn-color-unfitted-level-0);\n",
       "}\n",
       "\n",
       "#sk-container-id-1 div.sk-estimator.fitted {\n",
       "  /* fitted */\n",
       "  background-color: var(--sklearn-color-fitted-level-0);\n",
       "}\n",
       "\n",
       "/* on hover */\n",
       "#sk-container-id-1 div.sk-estimator:hover {\n",
       "  /* unfitted */\n",
       "  background-color: var(--sklearn-color-unfitted-level-2);\n",
       "}\n",
       "\n",
       "#sk-container-id-1 div.sk-estimator.fitted:hover {\n",
       "  /* fitted */\n",
       "  background-color: var(--sklearn-color-fitted-level-2);\n",
       "}\n",
       "\n",
       "/* Specification for estimator info (e.g. \"i\" and \"?\") */\n",
       "\n",
       "/* Common style for \"i\" and \"?\" */\n",
       "\n",
       ".sk-estimator-doc-link,\n",
       "a:link.sk-estimator-doc-link,\n",
       "a:visited.sk-estimator-doc-link {\n",
       "  float: right;\n",
       "  font-size: smaller;\n",
       "  line-height: 1em;\n",
       "  font-family: monospace;\n",
       "  background-color: var(--sklearn-color-background);\n",
       "  border-radius: 1em;\n",
       "  height: 1em;\n",
       "  width: 1em;\n",
       "  text-decoration: none !important;\n",
       "  margin-left: 0.5em;\n",
       "  text-align: center;\n",
       "  /* unfitted */\n",
       "  border: var(--sklearn-color-unfitted-level-1) 1pt solid;\n",
       "  color: var(--sklearn-color-unfitted-level-1);\n",
       "}\n",
       "\n",
       ".sk-estimator-doc-link.fitted,\n",
       "a:link.sk-estimator-doc-link.fitted,\n",
       "a:visited.sk-estimator-doc-link.fitted {\n",
       "  /* fitted */\n",
       "  border: var(--sklearn-color-fitted-level-1) 1pt solid;\n",
       "  color: var(--sklearn-color-fitted-level-1);\n",
       "}\n",
       "\n",
       "/* On hover */\n",
       "div.sk-estimator:hover .sk-estimator-doc-link:hover,\n",
       ".sk-estimator-doc-link:hover,\n",
       "div.sk-label-container:hover .sk-estimator-doc-link:hover,\n",
       ".sk-estimator-doc-link:hover {\n",
       "  /* unfitted */\n",
       "  background-color: var(--sklearn-color-unfitted-level-3);\n",
       "  color: var(--sklearn-color-background);\n",
       "  text-decoration: none;\n",
       "}\n",
       "\n",
       "div.sk-estimator.fitted:hover .sk-estimator-doc-link.fitted:hover,\n",
       ".sk-estimator-doc-link.fitted:hover,\n",
       "div.sk-label-container:hover .sk-estimator-doc-link.fitted:hover,\n",
       ".sk-estimator-doc-link.fitted:hover {\n",
       "  /* fitted */\n",
       "  background-color: var(--sklearn-color-fitted-level-3);\n",
       "  color: var(--sklearn-color-background);\n",
       "  text-decoration: none;\n",
       "}\n",
       "\n",
       "/* Span, style for the box shown on hovering the info icon */\n",
       ".sk-estimator-doc-link span {\n",
       "  display: none;\n",
       "  z-index: 9999;\n",
       "  position: relative;\n",
       "  font-weight: normal;\n",
       "  right: .2ex;\n",
       "  padding: .5ex;\n",
       "  margin: .5ex;\n",
       "  width: min-content;\n",
       "  min-width: 20ex;\n",
       "  max-width: 50ex;\n",
       "  color: var(--sklearn-color-text);\n",
       "  box-shadow: 2pt 2pt 4pt #999;\n",
       "  /* unfitted */\n",
       "  background: var(--sklearn-color-unfitted-level-0);\n",
       "  border: .5pt solid var(--sklearn-color-unfitted-level-3);\n",
       "}\n",
       "\n",
       ".sk-estimator-doc-link.fitted span {\n",
       "  /* fitted */\n",
       "  background: var(--sklearn-color-fitted-level-0);\n",
       "  border: var(--sklearn-color-fitted-level-3);\n",
       "}\n",
       "\n",
       ".sk-estimator-doc-link:hover span {\n",
       "  display: block;\n",
       "}\n",
       "\n",
       "/* \"?\"-specific style due to the `<a>` HTML tag */\n",
       "\n",
       "#sk-container-id-1 a.estimator_doc_link {\n",
       "  float: right;\n",
       "  font-size: 1rem;\n",
       "  line-height: 1em;\n",
       "  font-family: monospace;\n",
       "  background-color: var(--sklearn-color-background);\n",
       "  border-radius: 1rem;\n",
       "  height: 1rem;\n",
       "  width: 1rem;\n",
       "  text-decoration: none;\n",
       "  /* unfitted */\n",
       "  color: var(--sklearn-color-unfitted-level-1);\n",
       "  border: var(--sklearn-color-unfitted-level-1) 1pt solid;\n",
       "}\n",
       "\n",
       "#sk-container-id-1 a.estimator_doc_link.fitted {\n",
       "  /* fitted */\n",
       "  border: var(--sklearn-color-fitted-level-1) 1pt solid;\n",
       "  color: var(--sklearn-color-fitted-level-1);\n",
       "}\n",
       "\n",
       "/* On hover */\n",
       "#sk-container-id-1 a.estimator_doc_link:hover {\n",
       "  /* unfitted */\n",
       "  background-color: var(--sklearn-color-unfitted-level-3);\n",
       "  color: var(--sklearn-color-background);\n",
       "  text-decoration: none;\n",
       "}\n",
       "\n",
       "#sk-container-id-1 a.estimator_doc_link.fitted:hover {\n",
       "  /* fitted */\n",
       "  background-color: var(--sklearn-color-fitted-level-3);\n",
       "}\n",
       "</style><div id=\"sk-container-id-1\" class=\"sk-top-container\"><div class=\"sk-text-repr-fallback\"><pre>RandomForestClassifier(bootstrap=False, max_depth=20, min_samples_leaf=2,\n",
       "                       min_samples_split=10, n_estimators=650, n_jobs=-1,\n",
       "                       random_state=42, warm_start=True)</pre><b>In a Jupyter environment, please rerun this cell to show the HTML representation or trust the notebook. <br />On GitHub, the HTML representation is unable to render, please try loading this page with nbviewer.org.</b></div><div class=\"sk-container\" hidden><div class=\"sk-item\"><div class=\"sk-estimator fitted sk-toggleable\"><input class=\"sk-toggleable__control sk-hidden--visually\" id=\"sk-estimator-id-1\" type=\"checkbox\" checked><label for=\"sk-estimator-id-1\" class=\"sk-toggleable__label fitted sk-toggleable__label-arrow\"><div><div>RandomForestClassifier</div></div><div><a class=\"sk-estimator-doc-link fitted\" rel=\"noreferrer\" target=\"_blank\" href=\"https://scikit-learn.org/1.6/modules/generated/sklearn.ensemble.RandomForestClassifier.html\">?<span>Documentation for RandomForestClassifier</span></a><span class=\"sk-estimator-doc-link fitted\">i<span>Fitted</span></span></div></label><div class=\"sk-toggleable__content fitted\"><pre>RandomForestClassifier(bootstrap=False, max_depth=20, min_samples_leaf=2,\n",
       "                       min_samples_split=10, n_estimators=650, n_jobs=-1,\n",
       "                       random_state=42, warm_start=True)</pre></div> </div></div></div></div>"
      ],
      "text/plain": [
       "RandomForestClassifier(bootstrap=False, max_depth=20, min_samples_leaf=2,\n",
       "                       min_samples_split=10, n_estimators=650, n_jobs=-1,\n",
       "                       random_state=42, warm_start=True)"
      ]
     },
     "execution_count": 55,
     "metadata": {},
     "output_type": "execute_result"
    }
   ],
   "source": [
    "# Best RandomForestClassifier model\n",
    "params = {\n",
    "    \"n_estimators\":650,\n",
    "    \"bootstrap\": False,                 \n",
    "    \"max_depth\": 20,\n",
    "    \"max_features\": \"sqrt\",\n",
    "    \"min_samples_leaf\": 2,\n",
    "    \"min_samples_split\": 10,\n",
    "    \"random_state\": 42,\n",
    "    \"n_jobs\": -1,\n",
    "    \"warm_start\": True                \n",
    "}\n",
    "\n",
    "# fitting our tree model\n",
    "rf_model = RandomForestClassifier(**params)\n",
    "best_rf_model = rf_model.fit(x_train, y_train)\n",
    "\n",
    "# Predict probabilities\n",
    "rf_proba = best_rf_model.predict_proba(x_val)[:, 1]\n",
    "rf_l_loss = log_loss(y_val, np.clip(rf_proba, 1e-15, 1-1e-15))\n",
    "\n",
    "print(f'rf_logloss on full data: {rf_l_loss}')\n",
    "print('\\n')\n",
    "best_rf_model"
   ]
  },
  {
   "cell_type": "markdown",
   "id": "ef390651-32ed-4d91-ad03-ffbcfd3ca48d",
   "metadata": {
    "jp-MarkdownHeadingCollapsed": true
   },
   "source": [
    "#### Finding best parameter for XGBClassifier on sample training data"
   ]
  },
  {
   "cell_type": "code",
   "execution_count": 69,
   "id": "3e6186cb-8cf8-4f5c-a0ec-a59ddccdd8f4",
   "metadata": {},
   "outputs": [
    {
     "name": "stdout",
     "output_type": "stream",
     "text": [
      "Fitting 5 folds for each of 100 candidates, totalling 500 fits\n",
      "Best parameters: {'subsample': 0.8, 'reg_lambda': 2.0, 'reg_alpha': 0, 'n_estimators': np.int64(550), 'min_child_weight': 5, 'max_depth': 20, 'learning_rate': 0.01, 'gamma': 0.5, 'colsample_bytree': 1.0}\n",
      "Best Logloss: 0.2011087609690514\n"
     ]
    }
   ],
   "source": [
    "# tuning parameters for xgb through RandomizedSearchCV\n",
    "# setting random search grid\n",
    "rs_grid = {\n",
    "    'n_estimators': np.arange(300, 700, 50),\n",
    "    'learning_rate': [0.01, 0.05, 0.1, 0.2],\n",
    "    'max_depth': [7, 10, 20, 30],\n",
    "    'min_child_weight': [1, 3, 5],\n",
    "    'gamma': [0, 0.1, 0.3, 0.5],\n",
    "    'subsample': [0.6, 0.8, 1.0],\n",
    "    'colsample_bytree': [0.6, 0.8, 1.0],\n",
    "    'reg_alpha': [0, 0.1, 0.5, 1.0],\n",
    "    'reg_lambda': [1.0, 1.5, 2.0],\n",
    "}\n",
    "\n",
    "# Instantiating xgboost model\n",
    "xgb = XGBClassifier(random_state=42)\n",
    "\n",
    "# Initializing Random search\n",
    "rs_xgb = RandomizedSearchCV(xgb, \n",
    "                           param_distributions=rs_grid,\n",
    "                           n_iter=100,\n",
    "                           cv=5,\n",
    "                           scoring='neg_log_loss',\n",
    "                           n_jobs=-1,\n",
    "                           verbose=2,\n",
    "                           random_state=42)\n",
    "\n",
    "# fitting the model\n",
    "rs_xgb.fit(x_sample, y_sample)\n",
    "print(\"Best parameters:\", rs_xgb.best_params_)\n",
    "print(\"Best Logloss:\", -rs_xgb.best_score_)"
   ]
  },
  {
   "cell_type": "code",
   "execution_count": 74,
   "id": "eaae1257-17b7-4515-8007-3dcf039d6bdf",
   "metadata": {},
   "outputs": [
    {
     "name": "stdout",
     "output_type": "stream",
     "text": [
      "Fitting 5 folds for each of 256 candidates, totalling 1280 fits\n",
      "Best parameters: {'colsample_bytree': 1.0, 'gamma': 0.5, 'learning_rate': 0.01, 'max_depth': 20, 'min_child_weight': 5, 'n_estimators': np.int64(550), 'reg_alpha': 0, 'reg_lambda': 1.5, 'subsample': 0.8}\n",
      "Best logloss: 0.20090290798196805\n"
     ]
    }
   ],
   "source": [
    "# refining with GridSearchCV \n",
    "gs_grid = {\n",
    "    'n_estimators': np.arange(550, 650, 50),\n",
    "    'learning_rate': [0.01, 0.02],\n",
    "    'max_depth': [20, 30],\n",
    "    'min_child_weight': [5, 7],\n",
    "    'gamma': [0.5, 0.6],\n",
    "    'subsample': [0.8, 1.0],\n",
    "    'colsample_bytree': [1.0],\n",
    "    'reg_alpha': [0, 0.1],\n",
    "    'reg_lambda': [1.5, 2.0],\n",
    "}\n",
    "\n",
    "# Instantiating xgboost model\n",
    "xgb = XGBClassifier(random_state=42)\n",
    "\n",
    "# Initializing random search\n",
    "gs_xgb = GridSearchCV(xgb, \n",
    "                     param_grid=gs_grid,\n",
    "                     cv=5,\n",
    "                     scoring='neg_log_loss',\n",
    "                     n_jobs=-1,\n",
    "                     verbose=True)\n",
    "\n",
    "# fitting the model\n",
    "gs_xgb.fit(x_sample, y_sample)\n",
    "print(\"Best parameters:\", gs_xgb.best_params_)\n",
    "print(\"Best logloss:\", -gs_xgb.best_score_) \n",
    "best_xgb_model = gs_xgb.best_estimator_"
   ]
  },
  {
   "cell_type": "code",
   "execution_count": 77,
   "id": "cf790fca-7896-49e6-bed4-90a77f1f6172",
   "metadata": {},
   "outputs": [
    {
     "name": "stdout",
     "output_type": "stream",
     "text": [
      "Fitting 5 folds for each of 72 candidates, totalling 360 fits\n",
      "Best parameters: {'colsample_bytree': 1.0, 'gamma': 0.5, 'learning_rate': 0.01, 'max_depth': 10, 'min_child_weight': 5, 'n_estimators': 550, 'reg_alpha': 0, 'reg_lambda': 1.5, 'subsample': 0.8}\n",
      "Best logloss: 0.20043708655076373\n"
     ]
    }
   ],
   "source": [
    "# refining with GridSearchCV \n",
    "gs_grid = {\n",
    "    'n_estimators': [300, 500, 550, 650],\n",
    "    'learning_rate': [0.01, 0.02],\n",
    "    'max_depth': [10, 20, 25],\n",
    "    'min_child_weight': [5],\n",
    "    'gamma': [0.5],\n",
    "    'subsample': [0.8],\n",
    "    'colsample_bytree': [1.0],\n",
    "    'reg_alpha': [0],\n",
    "    'reg_lambda': [1.0, 1.5, 2.0],\n",
    "}\n",
    "\n",
    "# Instantiating xgboost model\n",
    "xgb = XGBClassifier(random_state=42)\n",
    "\n",
    "# Initializing random search\n",
    "gs_xgb = GridSearchCV(xgb, \n",
    "                     param_grid=gs_grid,\n",
    "                     cv=5,\n",
    "                     scoring='neg_log_loss',\n",
    "                     n_jobs=-1,\n",
    "                     verbose=True)\n",
    "\n",
    "# fitting the model\n",
    "gs_xgb.fit(x_sample, y_sample)\n",
    "print(\"Best parameters:\", gs_xgb.best_params_)\n",
    "print(\"Best logloss:\", -gs_xgb.best_score_) \n",
    "best_xgb_model = gs_xgb.best_estimator_"
   ]
  },
  {
   "cell_type": "code",
   "execution_count": 56,
   "id": "8cf93ed5-5e15-4dc8-a16e-47ba8bb97a1e",
   "metadata": {},
   "outputs": [
    {
     "name": "stdout",
     "output_type": "stream",
     "text": [
      "xgb_logloss on full data: 0.18739637343661883\n",
      "\n",
      "\n"
     ]
    },
    {
     "data": {
      "text/html": [
       "<style>#sk-container-id-2 {\n",
       "  /* Definition of color scheme common for light and dark mode */\n",
       "  --sklearn-color-text: #000;\n",
       "  --sklearn-color-text-muted: #666;\n",
       "  --sklearn-color-line: gray;\n",
       "  /* Definition of color scheme for unfitted estimators */\n",
       "  --sklearn-color-unfitted-level-0: #fff5e6;\n",
       "  --sklearn-color-unfitted-level-1: #f6e4d2;\n",
       "  --sklearn-color-unfitted-level-2: #ffe0b3;\n",
       "  --sklearn-color-unfitted-level-3: chocolate;\n",
       "  /* Definition of color scheme for fitted estimators */\n",
       "  --sklearn-color-fitted-level-0: #f0f8ff;\n",
       "  --sklearn-color-fitted-level-1: #d4ebff;\n",
       "  --sklearn-color-fitted-level-2: #b3dbfd;\n",
       "  --sklearn-color-fitted-level-3: cornflowerblue;\n",
       "\n",
       "  /* Specific color for light theme */\n",
       "  --sklearn-color-text-on-default-background: var(--sg-text-color, var(--theme-code-foreground, var(--jp-content-font-color1, black)));\n",
       "  --sklearn-color-background: var(--sg-background-color, var(--theme-background, var(--jp-layout-color0, white)));\n",
       "  --sklearn-color-border-box: var(--sg-text-color, var(--theme-code-foreground, var(--jp-content-font-color1, black)));\n",
       "  --sklearn-color-icon: #696969;\n",
       "\n",
       "  @media (prefers-color-scheme: dark) {\n",
       "    /* Redefinition of color scheme for dark theme */\n",
       "    --sklearn-color-text-on-default-background: var(--sg-text-color, var(--theme-code-foreground, var(--jp-content-font-color1, white)));\n",
       "    --sklearn-color-background: var(--sg-background-color, var(--theme-background, var(--jp-layout-color0, #111)));\n",
       "    --sklearn-color-border-box: var(--sg-text-color, var(--theme-code-foreground, var(--jp-content-font-color1, white)));\n",
       "    --sklearn-color-icon: #878787;\n",
       "  }\n",
       "}\n",
       "\n",
       "#sk-container-id-2 {\n",
       "  color: var(--sklearn-color-text);\n",
       "}\n",
       "\n",
       "#sk-container-id-2 pre {\n",
       "  padding: 0;\n",
       "}\n",
       "\n",
       "#sk-container-id-2 input.sk-hidden--visually {\n",
       "  border: 0;\n",
       "  clip: rect(1px 1px 1px 1px);\n",
       "  clip: rect(1px, 1px, 1px, 1px);\n",
       "  height: 1px;\n",
       "  margin: -1px;\n",
       "  overflow: hidden;\n",
       "  padding: 0;\n",
       "  position: absolute;\n",
       "  width: 1px;\n",
       "}\n",
       "\n",
       "#sk-container-id-2 div.sk-dashed-wrapped {\n",
       "  border: 1px dashed var(--sklearn-color-line);\n",
       "  margin: 0 0.4em 0.5em 0.4em;\n",
       "  box-sizing: border-box;\n",
       "  padding-bottom: 0.4em;\n",
       "  background-color: var(--sklearn-color-background);\n",
       "}\n",
       "\n",
       "#sk-container-id-2 div.sk-container {\n",
       "  /* jupyter's `normalize.less` sets `[hidden] { display: none; }`\n",
       "     but bootstrap.min.css set `[hidden] { display: none !important; }`\n",
       "     so we also need the `!important` here to be able to override the\n",
       "     default hidden behavior on the sphinx rendered scikit-learn.org.\n",
       "     See: https://github.com/scikit-learn/scikit-learn/issues/21755 */\n",
       "  display: inline-block !important;\n",
       "  position: relative;\n",
       "}\n",
       "\n",
       "#sk-container-id-2 div.sk-text-repr-fallback {\n",
       "  display: none;\n",
       "}\n",
       "\n",
       "div.sk-parallel-item,\n",
       "div.sk-serial,\n",
       "div.sk-item {\n",
       "  /* draw centered vertical line to link estimators */\n",
       "  background-image: linear-gradient(var(--sklearn-color-text-on-default-background), var(--sklearn-color-text-on-default-background));\n",
       "  background-size: 2px 100%;\n",
       "  background-repeat: no-repeat;\n",
       "  background-position: center center;\n",
       "}\n",
       "\n",
       "/* Parallel-specific style estimator block */\n",
       "\n",
       "#sk-container-id-2 div.sk-parallel-item::after {\n",
       "  content: \"\";\n",
       "  width: 100%;\n",
       "  border-bottom: 2px solid var(--sklearn-color-text-on-default-background);\n",
       "  flex-grow: 1;\n",
       "}\n",
       "\n",
       "#sk-container-id-2 div.sk-parallel {\n",
       "  display: flex;\n",
       "  align-items: stretch;\n",
       "  justify-content: center;\n",
       "  background-color: var(--sklearn-color-background);\n",
       "  position: relative;\n",
       "}\n",
       "\n",
       "#sk-container-id-2 div.sk-parallel-item {\n",
       "  display: flex;\n",
       "  flex-direction: column;\n",
       "}\n",
       "\n",
       "#sk-container-id-2 div.sk-parallel-item:first-child::after {\n",
       "  align-self: flex-end;\n",
       "  width: 50%;\n",
       "}\n",
       "\n",
       "#sk-container-id-2 div.sk-parallel-item:last-child::after {\n",
       "  align-self: flex-start;\n",
       "  width: 50%;\n",
       "}\n",
       "\n",
       "#sk-container-id-2 div.sk-parallel-item:only-child::after {\n",
       "  width: 0;\n",
       "}\n",
       "\n",
       "/* Serial-specific style estimator block */\n",
       "\n",
       "#sk-container-id-2 div.sk-serial {\n",
       "  display: flex;\n",
       "  flex-direction: column;\n",
       "  align-items: center;\n",
       "  background-color: var(--sklearn-color-background);\n",
       "  padding-right: 1em;\n",
       "  padding-left: 1em;\n",
       "}\n",
       "\n",
       "\n",
       "/* Toggleable style: style used for estimator/Pipeline/ColumnTransformer box that is\n",
       "clickable and can be expanded/collapsed.\n",
       "- Pipeline and ColumnTransformer use this feature and define the default style\n",
       "- Estimators will overwrite some part of the style using the `sk-estimator` class\n",
       "*/\n",
       "\n",
       "/* Pipeline and ColumnTransformer style (default) */\n",
       "\n",
       "#sk-container-id-2 div.sk-toggleable {\n",
       "  /* Default theme specific background. It is overwritten whether we have a\n",
       "  specific estimator or a Pipeline/ColumnTransformer */\n",
       "  background-color: var(--sklearn-color-background);\n",
       "}\n",
       "\n",
       "/* Toggleable label */\n",
       "#sk-container-id-2 label.sk-toggleable__label {\n",
       "  cursor: pointer;\n",
       "  display: flex;\n",
       "  width: 100%;\n",
       "  margin-bottom: 0;\n",
       "  padding: 0.5em;\n",
       "  box-sizing: border-box;\n",
       "  text-align: center;\n",
       "  align-items: start;\n",
       "  justify-content: space-between;\n",
       "  gap: 0.5em;\n",
       "}\n",
       "\n",
       "#sk-container-id-2 label.sk-toggleable__label .caption {\n",
       "  font-size: 0.6rem;\n",
       "  font-weight: lighter;\n",
       "  color: var(--sklearn-color-text-muted);\n",
       "}\n",
       "\n",
       "#sk-container-id-2 label.sk-toggleable__label-arrow:before {\n",
       "  /* Arrow on the left of the label */\n",
       "  content: \"▸\";\n",
       "  float: left;\n",
       "  margin-right: 0.25em;\n",
       "  color: var(--sklearn-color-icon);\n",
       "}\n",
       "\n",
       "#sk-container-id-2 label.sk-toggleable__label-arrow:hover:before {\n",
       "  color: var(--sklearn-color-text);\n",
       "}\n",
       "\n",
       "/* Toggleable content - dropdown */\n",
       "\n",
       "#sk-container-id-2 div.sk-toggleable__content {\n",
       "  max-height: 0;\n",
       "  max-width: 0;\n",
       "  overflow: hidden;\n",
       "  text-align: left;\n",
       "  /* unfitted */\n",
       "  background-color: var(--sklearn-color-unfitted-level-0);\n",
       "}\n",
       "\n",
       "#sk-container-id-2 div.sk-toggleable__content.fitted {\n",
       "  /* fitted */\n",
       "  background-color: var(--sklearn-color-fitted-level-0);\n",
       "}\n",
       "\n",
       "#sk-container-id-2 div.sk-toggleable__content pre {\n",
       "  margin: 0.2em;\n",
       "  border-radius: 0.25em;\n",
       "  color: var(--sklearn-color-text);\n",
       "  /* unfitted */\n",
       "  background-color: var(--sklearn-color-unfitted-level-0);\n",
       "}\n",
       "\n",
       "#sk-container-id-2 div.sk-toggleable__content.fitted pre {\n",
       "  /* unfitted */\n",
       "  background-color: var(--sklearn-color-fitted-level-0);\n",
       "}\n",
       "\n",
       "#sk-container-id-2 input.sk-toggleable__control:checked~div.sk-toggleable__content {\n",
       "  /* Expand drop-down */\n",
       "  max-height: 200px;\n",
       "  max-width: 100%;\n",
       "  overflow: auto;\n",
       "}\n",
       "\n",
       "#sk-container-id-2 input.sk-toggleable__control:checked~label.sk-toggleable__label-arrow:before {\n",
       "  content: \"▾\";\n",
       "}\n",
       "\n",
       "/* Pipeline/ColumnTransformer-specific style */\n",
       "\n",
       "#sk-container-id-2 div.sk-label input.sk-toggleable__control:checked~label.sk-toggleable__label {\n",
       "  color: var(--sklearn-color-text);\n",
       "  background-color: var(--sklearn-color-unfitted-level-2);\n",
       "}\n",
       "\n",
       "#sk-container-id-2 div.sk-label.fitted input.sk-toggleable__control:checked~label.sk-toggleable__label {\n",
       "  background-color: var(--sklearn-color-fitted-level-2);\n",
       "}\n",
       "\n",
       "/* Estimator-specific style */\n",
       "\n",
       "/* Colorize estimator box */\n",
       "#sk-container-id-2 div.sk-estimator input.sk-toggleable__control:checked~label.sk-toggleable__label {\n",
       "  /* unfitted */\n",
       "  background-color: var(--sklearn-color-unfitted-level-2);\n",
       "}\n",
       "\n",
       "#sk-container-id-2 div.sk-estimator.fitted input.sk-toggleable__control:checked~label.sk-toggleable__label {\n",
       "  /* fitted */\n",
       "  background-color: var(--sklearn-color-fitted-level-2);\n",
       "}\n",
       "\n",
       "#sk-container-id-2 div.sk-label label.sk-toggleable__label,\n",
       "#sk-container-id-2 div.sk-label label {\n",
       "  /* The background is the default theme color */\n",
       "  color: var(--sklearn-color-text-on-default-background);\n",
       "}\n",
       "\n",
       "/* On hover, darken the color of the background */\n",
       "#sk-container-id-2 div.sk-label:hover label.sk-toggleable__label {\n",
       "  color: var(--sklearn-color-text);\n",
       "  background-color: var(--sklearn-color-unfitted-level-2);\n",
       "}\n",
       "\n",
       "/* Label box, darken color on hover, fitted */\n",
       "#sk-container-id-2 div.sk-label.fitted:hover label.sk-toggleable__label.fitted {\n",
       "  color: var(--sklearn-color-text);\n",
       "  background-color: var(--sklearn-color-fitted-level-2);\n",
       "}\n",
       "\n",
       "/* Estimator label */\n",
       "\n",
       "#sk-container-id-2 div.sk-label label {\n",
       "  font-family: monospace;\n",
       "  font-weight: bold;\n",
       "  display: inline-block;\n",
       "  line-height: 1.2em;\n",
       "}\n",
       "\n",
       "#sk-container-id-2 div.sk-label-container {\n",
       "  text-align: center;\n",
       "}\n",
       "\n",
       "/* Estimator-specific */\n",
       "#sk-container-id-2 div.sk-estimator {\n",
       "  font-family: monospace;\n",
       "  border: 1px dotted var(--sklearn-color-border-box);\n",
       "  border-radius: 0.25em;\n",
       "  box-sizing: border-box;\n",
       "  margin-bottom: 0.5em;\n",
       "  /* unfitted */\n",
       "  background-color: var(--sklearn-color-unfitted-level-0);\n",
       "}\n",
       "\n",
       "#sk-container-id-2 div.sk-estimator.fitted {\n",
       "  /* fitted */\n",
       "  background-color: var(--sklearn-color-fitted-level-0);\n",
       "}\n",
       "\n",
       "/* on hover */\n",
       "#sk-container-id-2 div.sk-estimator:hover {\n",
       "  /* unfitted */\n",
       "  background-color: var(--sklearn-color-unfitted-level-2);\n",
       "}\n",
       "\n",
       "#sk-container-id-2 div.sk-estimator.fitted:hover {\n",
       "  /* fitted */\n",
       "  background-color: var(--sklearn-color-fitted-level-2);\n",
       "}\n",
       "\n",
       "/* Specification for estimator info (e.g. \"i\" and \"?\") */\n",
       "\n",
       "/* Common style for \"i\" and \"?\" */\n",
       "\n",
       ".sk-estimator-doc-link,\n",
       "a:link.sk-estimator-doc-link,\n",
       "a:visited.sk-estimator-doc-link {\n",
       "  float: right;\n",
       "  font-size: smaller;\n",
       "  line-height: 1em;\n",
       "  font-family: monospace;\n",
       "  background-color: var(--sklearn-color-background);\n",
       "  border-radius: 1em;\n",
       "  height: 1em;\n",
       "  width: 1em;\n",
       "  text-decoration: none !important;\n",
       "  margin-left: 0.5em;\n",
       "  text-align: center;\n",
       "  /* unfitted */\n",
       "  border: var(--sklearn-color-unfitted-level-1) 1pt solid;\n",
       "  color: var(--sklearn-color-unfitted-level-1);\n",
       "}\n",
       "\n",
       ".sk-estimator-doc-link.fitted,\n",
       "a:link.sk-estimator-doc-link.fitted,\n",
       "a:visited.sk-estimator-doc-link.fitted {\n",
       "  /* fitted */\n",
       "  border: var(--sklearn-color-fitted-level-1) 1pt solid;\n",
       "  color: var(--sklearn-color-fitted-level-1);\n",
       "}\n",
       "\n",
       "/* On hover */\n",
       "div.sk-estimator:hover .sk-estimator-doc-link:hover,\n",
       ".sk-estimator-doc-link:hover,\n",
       "div.sk-label-container:hover .sk-estimator-doc-link:hover,\n",
       ".sk-estimator-doc-link:hover {\n",
       "  /* unfitted */\n",
       "  background-color: var(--sklearn-color-unfitted-level-3);\n",
       "  color: var(--sklearn-color-background);\n",
       "  text-decoration: none;\n",
       "}\n",
       "\n",
       "div.sk-estimator.fitted:hover .sk-estimator-doc-link.fitted:hover,\n",
       ".sk-estimator-doc-link.fitted:hover,\n",
       "div.sk-label-container:hover .sk-estimator-doc-link.fitted:hover,\n",
       ".sk-estimator-doc-link.fitted:hover {\n",
       "  /* fitted */\n",
       "  background-color: var(--sklearn-color-fitted-level-3);\n",
       "  color: var(--sklearn-color-background);\n",
       "  text-decoration: none;\n",
       "}\n",
       "\n",
       "/* Span, style for the box shown on hovering the info icon */\n",
       ".sk-estimator-doc-link span {\n",
       "  display: none;\n",
       "  z-index: 9999;\n",
       "  position: relative;\n",
       "  font-weight: normal;\n",
       "  right: .2ex;\n",
       "  padding: .5ex;\n",
       "  margin: .5ex;\n",
       "  width: min-content;\n",
       "  min-width: 20ex;\n",
       "  max-width: 50ex;\n",
       "  color: var(--sklearn-color-text);\n",
       "  box-shadow: 2pt 2pt 4pt #999;\n",
       "  /* unfitted */\n",
       "  background: var(--sklearn-color-unfitted-level-0);\n",
       "  border: .5pt solid var(--sklearn-color-unfitted-level-3);\n",
       "}\n",
       "\n",
       ".sk-estimator-doc-link.fitted span {\n",
       "  /* fitted */\n",
       "  background: var(--sklearn-color-fitted-level-0);\n",
       "  border: var(--sklearn-color-fitted-level-3);\n",
       "}\n",
       "\n",
       ".sk-estimator-doc-link:hover span {\n",
       "  display: block;\n",
       "}\n",
       "\n",
       "/* \"?\"-specific style due to the `<a>` HTML tag */\n",
       "\n",
       "#sk-container-id-2 a.estimator_doc_link {\n",
       "  float: right;\n",
       "  font-size: 1rem;\n",
       "  line-height: 1em;\n",
       "  font-family: monospace;\n",
       "  background-color: var(--sklearn-color-background);\n",
       "  border-radius: 1rem;\n",
       "  height: 1rem;\n",
       "  width: 1rem;\n",
       "  text-decoration: none;\n",
       "  /* unfitted */\n",
       "  color: var(--sklearn-color-unfitted-level-1);\n",
       "  border: var(--sklearn-color-unfitted-level-1) 1pt solid;\n",
       "}\n",
       "\n",
       "#sk-container-id-2 a.estimator_doc_link.fitted {\n",
       "  /* fitted */\n",
       "  border: var(--sklearn-color-fitted-level-1) 1pt solid;\n",
       "  color: var(--sklearn-color-fitted-level-1);\n",
       "}\n",
       "\n",
       "/* On hover */\n",
       "#sk-container-id-2 a.estimator_doc_link:hover {\n",
       "  /* unfitted */\n",
       "  background-color: var(--sklearn-color-unfitted-level-3);\n",
       "  color: var(--sklearn-color-background);\n",
       "  text-decoration: none;\n",
       "}\n",
       "\n",
       "#sk-container-id-2 a.estimator_doc_link.fitted:hover {\n",
       "  /* fitted */\n",
       "  background-color: var(--sklearn-color-fitted-level-3);\n",
       "}\n",
       "</style><div id=\"sk-container-id-2\" class=\"sk-top-container\"><div class=\"sk-text-repr-fallback\"><pre>XGBClassifier(base_score=None, booster=None, callbacks=None,\n",
       "              colsample_bylevel=None, colsample_bynode=None,\n",
       "              colsample_bytree=1.0, device=None, early_stopping_rounds=None,\n",
       "              enable_categorical=False, eval_metric=None, feature_types=None,\n",
       "              feature_weights=None, gamma=0.5, grow_policy=None,\n",
       "              importance_type=None, interaction_constraints=None,\n",
       "              learning_rate=0.01, max_bin=None, max_cat_threshold=None,\n",
       "              max_cat_to_onehot=None, max_delta_step=None, max_depth=10,\n",
       "              max_leaves=None, min_child_weight=5, missing=nan,\n",
       "              monotone_constraints=None, multi_strategy=None, n_estimators=550,\n",
       "              n_jobs=-1, num_parallel_tree=None, ...)</pre><b>In a Jupyter environment, please rerun this cell to show the HTML representation or trust the notebook. <br />On GitHub, the HTML representation is unable to render, please try loading this page with nbviewer.org.</b></div><div class=\"sk-container\" hidden><div class=\"sk-item\"><div class=\"sk-estimator fitted sk-toggleable\"><input class=\"sk-toggleable__control sk-hidden--visually\" id=\"sk-estimator-id-2\" type=\"checkbox\" checked><label for=\"sk-estimator-id-2\" class=\"sk-toggleable__label fitted sk-toggleable__label-arrow\"><div><div>XGBClassifier</div></div><div><a class=\"sk-estimator-doc-link fitted\" rel=\"noreferrer\" target=\"_blank\" href=\"https://xgboost.readthedocs.io/en/release_3.0.0/python/python_api.html#xgboost.XGBClassifier\">?<span>Documentation for XGBClassifier</span></a><span class=\"sk-estimator-doc-link fitted\">i<span>Fitted</span></span></div></label><div class=\"sk-toggleable__content fitted\"><pre>XGBClassifier(base_score=None, booster=None, callbacks=None,\n",
       "              colsample_bylevel=None, colsample_bynode=None,\n",
       "              colsample_bytree=1.0, device=None, early_stopping_rounds=None,\n",
       "              enable_categorical=False, eval_metric=None, feature_types=None,\n",
       "              feature_weights=None, gamma=0.5, grow_policy=None,\n",
       "              importance_type=None, interaction_constraints=None,\n",
       "              learning_rate=0.01, max_bin=None, max_cat_threshold=None,\n",
       "              max_cat_to_onehot=None, max_delta_step=None, max_depth=10,\n",
       "              max_leaves=None, min_child_weight=5, missing=nan,\n",
       "              monotone_constraints=None, multi_strategy=None, n_estimators=550,\n",
       "              n_jobs=-1, num_parallel_tree=None, ...)</pre></div> </div></div></div></div>"
      ],
      "text/plain": [
       "XGBClassifier(base_score=None, booster=None, callbacks=None,\n",
       "              colsample_bylevel=None, colsample_bynode=None,\n",
       "              colsample_bytree=1.0, device=None, early_stopping_rounds=None,\n",
       "              enable_categorical=False, eval_metric=None, feature_types=None,\n",
       "              feature_weights=None, gamma=0.5, grow_policy=None,\n",
       "              importance_type=None, interaction_constraints=None,\n",
       "              learning_rate=0.01, max_bin=None, max_cat_threshold=None,\n",
       "              max_cat_to_onehot=None, max_delta_step=None, max_depth=10,\n",
       "              max_leaves=None, min_child_weight=5, missing=nan,\n",
       "              monotone_constraints=None, multi_strategy=None, n_estimators=550,\n",
       "              n_jobs=-1, num_parallel_tree=None, ...)"
      ]
     },
     "execution_count": 56,
     "metadata": {},
     "output_type": "execute_result"
    }
   ],
   "source": [
    "# Best XGBClassifier model\n",
    "params = {\n",
    "    'n_estimators': 550,\n",
    "    'learning_rate': 0.01,\n",
    "    'max_depth': 10,\n",
    "    'min_child_weight': 5,\n",
    "    'gamma': 0.5,\n",
    "    'subsample': 0.8,\n",
    "    'colsample_bytree': 1.0,\n",
    "    'reg_alpha': 0,\n",
    "    'reg_lambda': 1.5,\n",
    "    'n_jobs': -1,\n",
    "    'random_state': 42\n",
    "}\n",
    "\n",
    "# Instantiate and fit\n",
    "xgb = XGBClassifier(**params)\n",
    "best_xgb_model = xgb.fit(x_train, y_train)\n",
    "\n",
    "# Predict probabilities\n",
    "xgb_proba = best_xgb_model.predict_proba(x_val)[:, 1]\n",
    "\n",
    "# Calculate log loss\n",
    "xgb_l_loss = log_loss(y_val, np.clip(xgb_proba, 1e-15, 1 - 1e-15))\n",
    "\n",
    "print(f'xgb_logloss on full data: {xgb_l_loss}')\n",
    "print('\\n')\n",
    "best_xgb_model"
   ]
  },
  {
   "cell_type": "markdown",
   "id": "6f8a046d-98c4-45c3-9981-0a8ad3bf0edf",
   "metadata": {
    "jp-MarkdownHeadingCollapsed": true
   },
   "source": [
    "#### visualizing and comparing log_loss of both models"
   ]
  },
  {
   "cell_type": "code",
   "execution_count": 57,
   "id": "6f92d474-3ac0-4313-a892-43113a2ae14b",
   "metadata": {},
   "outputs": [
    {
     "data": {
      "image/png": "[encoded data removed]",
      "text/plain": [
       "<Figure size 600x400 with 1 Axes>"
      ]
     },
     "metadata": {},
     "output_type": "display_data"
    }
   ],
   "source": [
    "# making a list of models and log_loss\n",
    "models = ['RandomForest', 'XGB']\n",
    "log_loss = [rf_l_loss, xgb_l_loss]\n",
    "\n",
    "# visualizing\n",
    "plt.figure(figsize=(6, 4))\n",
    "plt.bar(models, log_loss, color=['skyblue', 'salmon'])\n",
    "plt.xlabel('Models')\n",
    "plt.ylabel('Log_Loss')\n",
    "plt.show()"
   ]
  },
  {
   "cell_type": "markdown",
   "id": "c4eb3769-9114-4b98-86e7-84099f37ffaf",
   "metadata": {},
   "source": [
    "**Since both are performing well and there is very little difference in log_loss value, will take `XGB model` forward considering its ability to generalise well on unseen data.**"
   ]
  },
  {
   "cell_type": "markdown",
   "id": "8771a03f-8d12-44e6-afc1-3441b62ff74c",
   "metadata": {
    "jp-MarkdownHeadingCollapsed": true
   },
   "source": [
    "# Evaluation"
   ]
  },
  {
   "cell_type": "markdown",
   "id": "0fe49625-501f-43d0-bbab-8c8aa4cfb9e1",
   "metadata": {
    "jp-MarkdownHeadingCollapsed": true
   },
   "source": [
    "### Evaluating on val data"
   ]
  },
  {
   "cell_type": "code",
   "execution_count": 58,
   "id": "7b53a4b3-1d34-478b-ae80-52e7d605b652",
   "metadata": {},
   "outputs": [
    {
     "data": {
      "text/plain": [
       "array([0, 0, 1, ..., 1, 1, 0], shape=(101042,))"
      ]
     },
     "execution_count": 58,
     "metadata": {},
     "output_type": "execute_result"
    }
   ],
   "source": [
    "# predict on val data\n",
    "val_preds = best_xgb_model.predict(x_val)\n",
    "val_proba = best_xgb_model.predict_proba(x_val)[:, 1]\n",
    "val_preds"
   ]
  },
  {
   "cell_type": "code",
   "execution_count": 59,
   "id": "01c98171-b82d-489f-832c-0a65abfeb93a",
   "metadata": {},
   "outputs": [
    {
     "name": "stdout",
     "output_type": "stream",
     "text": [
      "              precision    recall  f1-score   support\n",
      "\n",
      "         0.0       1.00      0.86      0.92     44986\n",
      "         1.0       0.90      1.00      0.95     56056\n",
      "\n",
      "    accuracy                           0.94    101042\n",
      "   macro avg       0.95      0.93      0.93    101042\n",
      "weighted avg       0.94      0.94      0.93    101042\n",
      "\n"
     ]
    }
   ],
   "source": [
    "# scoring XGB on val data with recall, precision, f1, and class\n",
    "print(classification_report(y_val, val_preds))"
   ]
  },
  {
   "cell_type": "code",
   "execution_count": 60,
   "id": "e4a596f3-41f1-4732-8cdd-7c819e74479f",
   "metadata": {},
   "outputs": [
    {
     "data": {
      "text/plain": [
       "array([[38611,  6375],\n",
       "       [  133, 55923]])"
      ]
     },
     "execution_count": 60,
     "metadata": {},
     "output_type": "execute_result"
    }
   ],
   "source": [
    "# confusion matrix\n",
    "confusion_matrix(y_val, val_preds)"
   ]
  },
  {
   "cell_type": "code",
   "execution_count": 61,
   "id": "2ef76b8f-defe-455f-bd43-b25a263664f7",
   "metadata": {},
   "outputs": [
    {
     "data": {
      "image/png": "[encoded data removed]",
      "text/plain": [
       "<Figure size 400x300 with 2 Axes>"
      ]
     },
     "metadata": {},
     "output_type": "display_data"
    }
   ],
   "source": [
    "# plot Confusion matrix\n",
    "def plot_conf_mat(y_true, y_preds):\n",
    "    fig, ax = plt.subplots(figsize=(4, 3))\n",
    "    sns.heatmap(confusion_matrix(y_true, y_preds),\n",
    "                annot=True,\n",
    "                fmt='d',\n",
    "                cmap=\"YlGnBu\",\n",
    "                annot_kws={\"size\": 14})\n",
    "    plt.xlabel('True label')\n",
    "    plt.ylabel('Predicted label')\n",
    "    plt.show()\n",
    "\n",
    "# Using function\n",
    "plot_conf_mat(y_val, val_preds)"
   ]
  },
  {
   "cell_type": "code",
   "execution_count": 62,
   "id": "f7e61d54-6528-4dda-850f-ffba825b4455",
   "metadata": {},
   "outputs": [
    {
     "name": "stdout",
     "output_type": "stream",
     "text": [
      "recall_score:0.9976\n",
      "precision_score:0.8977\n",
      "f1_score:0.9450\n",
      "log_loss_score:0.1874\n"
     ]
    }
   ],
   "source": [
    "from sklearn.metrics import log_loss\n",
    "\n",
    "# Evaluating on recall_score, precision_score, f1_score, and log_loss\n",
    "recall = recall_score(y_val, val_preds)\n",
    "precision = precision_score(y_val, val_preds)\n",
    "f1 = f1_score(y_val, val_preds)\n",
    "val_log_loss = log_loss(y_val, val_proba)\n",
    "\n",
    "# printing the scores\n",
    "print(f'recall_score:{recall:.4f}')\n",
    "print(f'precision_score:{precision:.4f}')\n",
    "print(f'f1_score:{f1:.4f}')\n",
    "print(f'log_loss_score:{val_log_loss:.4f}')"
   ]
  },
  {
   "cell_type": "markdown",
   "id": "614d2338-1e72-4d7e-9c08-443184583730",
   "metadata": {
    "jp-MarkdownHeadingCollapsed": true
   },
   "source": [
    "### Predicting on test data "
   ]
  },
  {
   "cell_type": "code",
   "execution_count": 63,
   "id": "fb2ab631-db61-4505-bbff-f252edf591d5",
   "metadata": {},
   "outputs": [
    {
     "name": "stdout",
     "output_type": "stream",
     "text": [
      "Churn_submission.csv file created successfully!\n"
     ]
    }
   ],
   "source": [
    "# Getting probabilities for churn (class = 1)\n",
    "test_proba = best_xgb_model.predict_proba(x_test)[:, 1]\n",
    "\n",
    "# Create submission DataFrame\n",
    "submission = pd.DataFrame({\n",
    "    \"Id\": test_ids,\n",
    "    \"Churn\": test_proba\n",
    "})\n",
    "\n",
    "# Save to CSV\n",
    "submission.to_csv(\"Churn_submission.csv\", index=False)\n",
    "print(\"Churn_submission.csv file created successfully!\")"
   ]
  },
  {
   "cell_type": "code",
   "execution_count": 64,
   "id": "e34c6aa4-017b-486d-83e0-be19c933cf4a",
   "metadata": {},
   "outputs": [
    {
     "data": {
      "text/html": [
       "<div>\n",
       "<style scoped>\n",
       "    .dataframe tbody tr th:only-of-type {\n",
       "        vertical-align: middle;\n",
       "    }\n",
       "\n",
       "    .dataframe tbody tr th {\n",
       "        vertical-align: top;\n",
       "    }\n",
       "\n",
       "    .dataframe thead th {\n",
       "        text-align: right;\n",
       "    }\n",
       "</style>\n",
       "<table border=\"1\" class=\"dataframe\">\n",
       "  <thead>\n",
       "    <tr style=\"text-align: right;\">\n",
       "      <th></th>\n",
       "      <th>Id</th>\n",
       "      <th>Churn</th>\n",
       "    </tr>\n",
       "  </thead>\n",
       "  <tbody>\n",
       "    <tr>\n",
       "      <th>0</th>\n",
       "      <td>105946</td>\n",
       "      <td>0.851723</td>\n",
       "    </tr>\n",
       "    <tr>\n",
       "      <th>1</th>\n",
       "      <td>101553</td>\n",
       "      <td>0.823119</td>\n",
       "    </tr>\n",
       "    <tr>\n",
       "      <th>2</th>\n",
       "      <td>468232</td>\n",
       "      <td>0.849184</td>\n",
       "    </tr>\n",
       "    <tr>\n",
       "      <th>3</th>\n",
       "      <td>249</td>\n",
       "      <td>0.995819</td>\n",
       "    </tr>\n",
       "    <tr>\n",
       "      <th>4</th>\n",
       "      <td>452750</td>\n",
       "      <td>0.006640</td>\n",
       "    </tr>\n",
       "  </tbody>\n",
       "</table>\n",
       "</div>"
      ],
      "text/plain": [
       "       Id     Churn\n",
       "0  105946  0.851723\n",
       "1  101553  0.823119\n",
       "2  468232  0.849184\n",
       "3     249  0.995819\n",
       "4  452750  0.006640"
      ]
     },
     "execution_count": 64,
     "metadata": {},
     "output_type": "execute_result"
    }
   ],
   "source": [
    "pd.read_csv('Churn_submission.csv')[:5]"
   ]
  },
  {
   "cell_type": "markdown",
   "id": "82148d62",
   "metadata": {},
   "source": [
    "After submitting, the log_loss score on public leaderboard is `0.1883`"
   ]
  },
  {
   "cell_type": "markdown",
   "id": "6dcd0387",
   "metadata": {},
   "source": [
    "# Stratified K-fold"
   ]
  },
  {
   "cell_type": "markdown",
   "id": "b6df14aa",
   "metadata": {},
   "source": [
    "One more try to improve our `log_loss score`"
   ]
  },
  {
   "cell_type": "code",
   "execution_count": 65,
   "id": "bf9b15e4",
   "metadata": {},
   "outputs": [],
   "source": [
    "# Load data\n",
    "train_df = pd.read_csv('train.csv')\n",
    "test_df = pd.read_csv('test.csv')\n",
    "\n",
    "# renaming 'Churn' to 'target' \n",
    "train_df.rename(columns={'Churn':'target'}, inplace=True)\n",
    "\n",
    "# copying IDs from test data for the submission purpose\n",
    "test_ids = test_df['Id'].copy()\n",
    "\n",
    "# dropping 'ID' column form train and test data\n",
    "train_df = train_df.drop('Id', axis=1)\n",
    "test_df = test_df.drop('Id', axis=1)\n",
    "\n",
    "# feature engineering\n",
    "train_df[\"SubType_Contract\"] = train_df[\"Subscription Type\"] + \"_\" + train_df[\"Contract Length\"]\n",
    "test_df[\"SubType_Contract\"] = test_df[\"Subscription Type\"] + \"_\" + test_df[\"Contract Length\"]"
   ]
  },
  {
   "cell_type": "code",
   "execution_count": 66,
   "id": "33d8f317",
   "metadata": {},
   "outputs": [
    {
     "name": "stdout",
     "output_type": "stream",
     "text": [
      "=== Fold 1 ===\n"
     ]
    },
    {
     "name": "stderr",
     "output_type": "stream",
     "text": [
      "c:\\Machine_Learning\\kaggle-community-olympiad-customer-deflection\\env\\Lib\\site-packages\\xgboost\\training.py:183: UserWarning: [20:23:42] WARNING: C:\\actions-runner\\_work\\xgboost\\xgboost\\src\\learner.cc:738: \n",
      "Parameters: { \"use_label_encoder\" } are not used.\n",
      "\n",
      "  bst.update(dtrain, iteration=i, fobj=obj)\n"
     ]
    },
    {
     "name": "stdout",
     "output_type": "stream",
     "text": [
      "Fold 1 Loss: 0.1824\n",
      "=== Fold 2 ===\n"
     ]
    },
    {
     "name": "stderr",
     "output_type": "stream",
     "text": [
      "c:\\Machine_Learning\\kaggle-community-olympiad-customer-deflection\\env\\Lib\\site-packages\\xgboost\\training.py:183: UserWarning: [20:23:54] WARNING: C:\\actions-runner\\_work\\xgboost\\xgboost\\src\\learner.cc:738: \n",
      "Parameters: { \"use_label_encoder\" } are not used.\n",
      "\n",
      "  bst.update(dtrain, iteration=i, fobj=obj)\n"
     ]
    },
    {
     "name": "stdout",
     "output_type": "stream",
     "text": [
      "Fold 2 Loss: 0.1873\n",
      "=== Fold 3 ===\n"
     ]
    },
    {
     "name": "stderr",
     "output_type": "stream",
     "text": [
      "c:\\Machine_Learning\\kaggle-community-olympiad-customer-deflection\\env\\Lib\\site-packages\\xgboost\\training.py:183: UserWarning: [20:24:07] WARNING: C:\\actions-runner\\_work\\xgboost\\xgboost\\src\\learner.cc:738: \n",
      "Parameters: { \"use_label_encoder\" } are not used.\n",
      "\n",
      "  bst.update(dtrain, iteration=i, fobj=obj)\n"
     ]
    },
    {
     "name": "stdout",
     "output_type": "stream",
     "text": [
      "Fold 3 Loss: 0.1861\n",
      "=== Fold 4 ===\n"
     ]
    },
    {
     "name": "stderr",
     "output_type": "stream",
     "text": [
      "c:\\Machine_Learning\\kaggle-community-olympiad-customer-deflection\\env\\Lib\\site-packages\\xgboost\\training.py:183: UserWarning: [20:24:20] WARNING: C:\\actions-runner\\_work\\xgboost\\xgboost\\src\\learner.cc:738: \n",
      "Parameters: { \"use_label_encoder\" } are not used.\n",
      "\n",
      "  bst.update(dtrain, iteration=i, fobj=obj)\n"
     ]
    },
    {
     "name": "stdout",
     "output_type": "stream",
     "text": [
      "Fold 4 Loss: 0.1871\n",
      "=== Fold 5 ===\n"
     ]
    },
    {
     "name": "stderr",
     "output_type": "stream",
     "text": [
      "c:\\Machine_Learning\\kaggle-community-olympiad-customer-deflection\\env\\Lib\\site-packages\\xgboost\\training.py:183: UserWarning: [20:24:32] WARNING: C:\\actions-runner\\_work\\xgboost\\xgboost\\src\\learner.cc:738: \n",
      "Parameters: { \"use_label_encoder\" } are not used.\n",
      "\n",
      "  bst.update(dtrain, iteration=i, fobj=obj)\n"
     ]
    },
    {
     "name": "stdout",
     "output_type": "stream",
     "text": [
      "Fold 5 Loss: 0.1861\n",
      "\n",
      "Overall OOF Log Loss: 0.1858\n",
      "\n",
      "✅ Submission file saved as submission_16.csv\n"
     ]
    }
   ],
   "source": [
    "import numpy as np\n",
    "import pandas as pd\n",
    "from sklearn.model_selection import StratifiedKFold\n",
    "from sklearn.metrics import log_loss\n",
    "from xgboost import XGBClassifier\n",
    "\n",
    "# Categorical alignment (train & test)\n",
    "for col in [\"Gender\", \"Subscription Type\", \"Contract Length\", \"SubType_Contract\"]:\n",
    "    categories = list(set(train_df[col].unique()) | set(test_df[col].unique()))\n",
    "    train_df[col] = train_df[col].astype(pd.CategoricalDtype(categories=categories))\n",
    "    test_df[col] = test_df[col].astype(pd.CategoricalDtype(categories=categories))\n",
    "\n",
    "X = train_df.drop(columns=[\"target\"])\n",
    "y = train_df[\"target\"]\n",
    "X_test = test_df.copy()\n",
    "\n",
    "# Stratified K-Fold setup\n",
    "skf = StratifiedKFold(n_splits=5, shuffle=True, random_state=42)\n",
    "\n",
    "oof_preds = np.zeros(len(X))\n",
    "test_preds = np.zeros(len(X_test))\n",
    "fold_scores = []\n",
    "\n",
    "for fold, (train_idx, val_idx) in enumerate(skf.split(X, y), 1):\n",
    "    print(f\"=== Fold {fold} ===\")\n",
    "    \n",
    "    X_train, X_val = X.iloc[train_idx], X.iloc[val_idx]\n",
    "    y_train, y_val = y.iloc[train_idx], y.iloc[val_idx]\n",
    "    \n",
    "    # Best XGBClassifier model \n",
    "    params = {\n",
    "        'n_estimators': 550, \n",
    "        'learning_rate': 0.01,\n",
    "        'max_depth': 10,\n",
    "        'min_child_weight': 5,\n",
    "        'gamma': 0.5,\n",
    "        'subsample': 0.8,\n",
    "        'colsample_bytree': 1.0,\n",
    "        'reg_alpha': 0,\n",
    "        'reg_lambda': 1.5,\n",
    "        'eval_metric': \"logloss\",\n",
    "        'use_label_encoder': False,\n",
    "        'enable_categorical':True,\n",
    "        'random_state': 42\n",
    "        }\n",
    "    \n",
    "    Ideal_model = XGBClassifier(**params)\n",
    "    Ideal_model.fit(X_train, y_train, eval_set=[(X_val, y_val)], verbose=False)\n",
    "    \n",
    "    # OOF predictions\n",
    "    val_pred = Ideal_model.predict_proba(X_val)[:, 1]\n",
    "    oof_preds[val_idx] = val_pred\n",
    "    \n",
    "    # Fold log loss\n",
    "    fold_loss = log_loss(y_val, val_pred)\n",
    "    fold_scores.append(fold_loss)\n",
    "    print(f\"Fold {fold} Loss: {fold_loss:.4f}\")\n",
    "    \n",
    "    # Test predictions (accumulate, then average)\n",
    "    test_preds += Ideal_model.predict_proba(X_test)[:, 1] / skf.n_splits\n",
    "\n",
    "# Overall OOF performance\n",
    "oof_loss = log_loss(y, oof_preds)\n",
    "print(f\"\\nOverall OOF Log Loss: {oof_loss:.4f}\")\n",
    "\n",
    "# Final test predictions saved\n",
    "submission = pd.DataFrame({\n",
    "    \"Id\": test_ids,   # replace with your test ID column if exists\n",
    "    \"Churn\": test_preds\n",
    "})\n",
    "submission.to_csv(\"submission_16.csv\", index=False)\n",
    "print(\"\\n✅ Submission file saved as submission_16.csv\")\n"
   ]
  },
  {
   "cell_type": "markdown",
   "id": "407329e8",
   "metadata": {},
   "source": [
    "After submitting, the log_loss score on public leaderboard is `0.1866`"
   ]
  },
  {
   "cell_type": "markdown",
   "id": "29b58ae9-762c-45f3-96d9-04f3fe3e8177",
   "metadata": {
    "jp-MarkdownHeadingCollapsed": true
   },
   "source": [
    "# Save Model"
   ]
  },
  {
   "cell_type": "code",
   "execution_count": 67,
   "id": "f4b10062-c5ee-482e-aa61-0f6b66c3ae53",
   "metadata": {},
   "outputs": [
    {
     "data": {
      "text/plain": [
       "['churn_model.pkl']"
      ]
     },
     "execution_count": 67,
     "metadata": {},
     "output_type": "execute_result"
    }
   ],
   "source": [
    "# Saving model\n",
    "joblib.dump(Ideal_model, \"churn_model.pkl\")"
   ]
  },
  {
   "cell_type": "code",
   "execution_count": 68,
   "id": "cc4602b6-63f2-4fa4-bd04-b4de53fc4205",
   "metadata": {},
   "outputs": [],
   "source": [
    "# Loading the model\n",
    "loaded_model = joblib.load(\"churn_model.pkl\")"
   ]
  },
  {
   "cell_type": "code",
   "execution_count": 70,
   "id": "e889e95f-4ff1-469f-bc0a-895966f5dc0c",
   "metadata": {},
   "outputs": [
    {
     "name": "stdout",
     "output_type": "stream",
     "text": [
      "Same predictions: True\n"
     ]
    }
   ],
   "source": [
    "# Predictions before saving\n",
    "pred_before = Ideal_model.predict(x_val)\n",
    "\n",
    "# Predictions after loading\n",
    "pred_after = loaded_model.predict(x_val)\n",
    "\n",
    "# Checking if model gives the same result after loading\n",
    "print(\"Same predictions:\", (pred_before == pred_after).all())"
   ]
  },
  {
   "cell_type": "code",
   "execution_count": null,
   "id": "38b66b8a-0ec9-448b-a1e9-eea998dcfbb2",
   "metadata": {},
   "outputs": [],
   "source": []
  }
 ],
 "metadata": {
  "kernelspec": {
   "display_name": "env",
   "language": "python",
   "name": "python3"
  },
  "language_info": {
   "codemirror_mode": {
    "name": "ipython",
    "version": 3
   },
   "file_extension": ".py",
   "mimetype": "text/x-python",
   "name": "python",
   "nbconvert_exporter": "python",
   "pygments_lexer": "ipython3",
   "version": "3.13.5"
  }
 },
 "nbformat": 4,
 "nbformat_minor": 5
}
